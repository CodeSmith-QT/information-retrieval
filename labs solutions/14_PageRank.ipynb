{
  "cells": [
    {
      "cell_type": "markdown",
      "metadata": {
        "id": "_0yO62bugjxD"
      },
      "source": [
        "# PageRank\n",
        "Today we will implement PageRank algorithm for a small collection of document about Information Retrieval. For this we will extract link information from Wikipedia and build a Google Matrix. \n",
        "\n",
        "Based on the matrix you will build a *reputation ranking for the documents*.\n",
        "\n",
        "<!-- To obtain ranking result you can use:\n",
        "- Naïve approach with matrix inversion\n",
        "- Power Method\n",
        " -->\n",
        "# Download a dataset\n",
        "\n",
        "**You can use this code to reproduce the whole pipeline on your machine**. \n",
        "BUT, Below you will find the code, which loads the prepared adjacency matrix from the string."
      ]
    },
    {
      "cell_type": "code",
      "execution_count": 28,
      "metadata": {
        "colab": {
          "base_uri": "https://localhost:8080/"
        },
        "id": "N3_82fJjgjxF",
        "outputId": "ef599eb3-ccaa-477a-ad6d-2a7379595caf"
      },
      "outputs": [
        {
          "output_type": "stream",
          "name": "stdout",
          "text": [
            "Looking in indexes: https://pypi.org/simple, https://us-python.pkg.dev/colab-wheels/public/simple/\n",
            "Requirement already satisfied: wikipedia in /usr/local/lib/python3.10/dist-packages (1.4.0)\n",
            "Requirement already satisfied: beautifulsoup4 in /usr/local/lib/python3.10/dist-packages (from wikipedia) (4.11.2)\n",
            "Requirement already satisfied: requests<3.0.0,>=2.0.0 in /usr/local/lib/python3.10/dist-packages (from wikipedia) (2.27.1)\n",
            "Requirement already satisfied: certifi>=2017.4.17 in /usr/local/lib/python3.10/dist-packages (from requests<3.0.0,>=2.0.0->wikipedia) (2022.12.7)\n",
            "Requirement already satisfied: urllib3<1.27,>=1.21.1 in /usr/local/lib/python3.10/dist-packages (from requests<3.0.0,>=2.0.0->wikipedia) (1.26.15)\n",
            "Requirement already satisfied: idna<4,>=2.5 in /usr/local/lib/python3.10/dist-packages (from requests<3.0.0,>=2.0.0->wikipedia) (3.4)\n",
            "Requirement already satisfied: charset-normalizer~=2.0.0 in /usr/local/lib/python3.10/dist-packages (from requests<3.0.0,>=2.0.0->wikipedia) (2.0.12)\n",
            "Requirement already satisfied: soupsieve>1.2 in /usr/local/lib/python3.10/dist-packages (from beautifulsoup4->wikipedia) (2.4.1)\n"
          ]
        }
      ],
      "source": [
        "!pip install wikipedia"
      ]
    },
    {
      "cell_type": "code",
      "execution_count": 29,
      "metadata": {
        "id": "Wxcyr_HjgjxG",
        "outputId": "17ee0c4b-6599-4d5c-8257-4430504cce8f",
        "colab": {
          "base_uri": "https://localhost:8080/"
        }
      },
      "outputs": [
        {
          "output_type": "stream",
          "name": "stderr",
          "text": [
            "100%|██████████| 40/40 [00:03<00:00, 12.07it/s]\n"
          ]
        }
      ],
      "source": [
        "import wikipedia\n",
        "\n",
        "pages = [\n",
        "    \"Bag-of-words model\",\n",
        "    \"Bayes' theorem\",\n",
        "    \"Cluster analysis\",\n",
        "    \"Content-based image retrieval\",\n",
        "    \"Database\",\n",
        "    \"Deep learning\",\n",
        "    \"Desktop search\",\n",
        "    \"Dimensionality reduction\",\n",
        "    \"Discounted Cumulative Gain\",\n",
        "    \"Eigenvector\",\n",
        "    \"Full-text search\",\n",
        "    \"Hypertext\",\n",
        "    \"Image retrieval\",\n",
        "    \"Information_retrieval\",\n",
        "    \"Information system\",\n",
        "    \"K-nearest neighbors algorithm\",\n",
        "    \"Language model\",\n",
        "    \"Latent Dirichlet allocation\",\n",
        "    \"Latent semantic analysis\",\n",
        "    \"Low-rank approximation\",\n",
        "    \"Multimedia information retrieval\",\n",
        "    \"Netflix Prize\",\n",
        "    \"Netflix\",\n",
        "    \"Ranking (information retrieval)\",\n",
        "    \"Recommender systems\",\n",
        "    \"Relevance (information retrieval)\",\n",
        "    \"Rocchio algorithm\",\n",
        "    \"Search algorithm\",\n",
        "    \"Search engines\",\n",
        "    \"Semantic search\",\n",
        "    \"Semantic web\",\n",
        "    \"Sentiment analysis\",\n",
        "    \"Similarity search\",\n",
        "    \"Search engine (computing)\",  # was \"Site search before\"\n",
        "    \"Text mining\",\n",
        "    \"Text Retrieval Conference\",\n",
        "    \"Tf–idf\",\n",
        "    \"Vector space model\",\n",
        "    \"Web crawler\",\n",
        "    \"World Wide Web\"\n",
        "]\n",
        "\n",
        "import tqdm\n",
        "\n",
        "dataset = {}\n",
        "for page in tqdm.tqdm(pages):\n",
        "    dataset[page] = wikipedia.page(page, auto_suggest=False)"
      ]
    },
    {
      "cell_type": "markdown",
      "metadata": {
        "id": "CsXHwt1ugjxH"
      },
      "source": [
        "## Essential data is stored in adjacency matrix\n",
        "\n",
        "Here we create a 0/1 adjacency matrix."
      ]
    },
    {
      "cell_type": "code",
      "execution_count": 30,
      "metadata": {
        "colab": {
          "base_uri": "https://localhost:8080/",
          "height": 448
        },
        "id": "FoUQb6WxgjxI",
        "outputId": "eb2bd86a-24c0-41d9-c727-afdca073d618"
      },
      "outputs": [
        {
          "output_type": "stream",
          "name": "stderr",
          "text": [
            "100%|██████████| 40/40 [00:03<00:00, 11.88it/s]\n"
          ]
        },
        {
          "output_type": "display_data",
          "data": {
            "text/plain": [
              "<Figure size 640x480 with 1 Axes>"
            ],
            "image/png": "[encoded data removed]"
          },
          "metadata": {}
        }
      ],
      "source": [
        "import numpy as np\n",
        "import tqdm\n",
        "import matplotlib.pyplot as plt\n",
        "\n",
        "A = np.zeros((len(pages), len(pages)))\n",
        "for j, page in enumerate(tqdm.tqdm(pages)):\n",
        "    for link in dataset[page].links:\n",
        "        if link in pages:\n",
        "            i = pages.index(link)\n",
        "            A[i, j] = 1\n",
        "\n",
        "plt.imshow(A)\n",
        "plt.show()"
      ]
    },
    {
      "cell_type": "code",
      "execution_count": 31,
      "metadata": {
        "id": "SJTYhbOVgjxI",
        "outputId": "5a178c98-ce57-4e41-ec10-c49a1e57fdf1",
        "colab": {
          "base_uri": "https://localhost:8080/"
        }
      },
      "outputs": [
        {
          "output_type": "stream",
          "name": "stdout",
          "text": [
            "0000000000000000111000000000000100100100000000000000010000000000000000000000000000000101100000000000100010000000000000000000001000001000000010000000100000000000000100000001111000000000000111100010000100100000000000000010000000000001000000000000000000001100000000000000110001000010001001000100000000000100100000001010000000000000000000000000000010000000000000000000000000000000001000000000000000000000000000000000010000000000000000000000000000001000000001000000000000000110000000010001000000000100000010000000110001000010000000000000000000000000000000000000000000001000000001000000000000000000000000010010010100000000000010001000000000000000101001000000010001100000000000010010000010000000000001001010000000000001001010001000000100000100110100000100001110101100000000000000000000100000000000000000000000010000000011000000000000000000000000000000000100000000000000101000000010000000000000000000000000000100100000000000000000000000100001000000000000001000000000000010000000000100000000000000000000000000000000001010010000000001001010000010110000000000000000000000000010000000000000000000000000000000000000001000000000000000000000000000011000000000000000000000001100001000000110000000000000001010010000110000000000001000000000000000010000100000100001000000000011100000100000000010000000000001000000000000010010000000000000000000000000001000000000000001110000000010100000000000100011100000100011010100101000000000000001000000000001000000000000001000000000000100001000001000000000000100100000000000010000101001001000000000100000000000000010000000000000001110010000010010100010010110000000000000111001000010\n"
          ]
        }
      ],
      "source": [
        "def save(mx):\n",
        "    return \"\".join(\"0\" if v == 0 else \"1\" for v in mx.flatten())\n",
        "    \n",
        "Atext = save(A)\n",
        "print(Atext)"
      ]
    },
    {
      "cell_type": "markdown",
      "metadata": {
        "id": "rOiw9fqtgjxI"
      },
      "source": [
        "# ... OR You may start the lab from this place\n",
        "Use the code below in your solution to load the adjacency matrix."
      ]
    },
    {
      "cell_type": "code",
      "execution_count": 32,
      "metadata": {
        "colab": {
          "base_uri": "https://localhost:8080/",
          "height": 431
        },
        "id": "rzt6fGXWgjxI",
        "outputId": "8a5ce55f-b90b-415c-a1fc-5393cfedba46"
      },
      "outputs": [
        {
          "output_type": "display_data",
          "data": {
            "text/plain": [
              "<Figure size 640x480 with 1 Axes>"
            ],
            "image/png": "[encoded data removed]"
          },
          "metadata": {}
        }
      ],
      "source": [
        "pages = [ \"Bag-of-words model\", \"Bayes' theorem\", \"Cluster analysis\", \"Content-based image retrieval\", \"Database\", \"Deep learning\", \"Desktop search\", \"Dimensionality reduction\", \"Discounted Cumulative Gain\", \"Eigenvector\", \"Full-text search\", \"Hypertext\", \"Image retrieval\", \"Information retrieval\", \"Information system\", \"K-nearest neighbors algorithm\", \"Language model\", \"Latent Dirichlet allocation\", \"Latent semantic analysis\", \"Low-rank approximation\", \"Multimedia information retrieval\", \"Netflix Prize\", \"Netflix\", \"Ranking (information retrieval)\", \"Recommender systems\", \"Relevance (information retrieval)\", \"Rocchio algorithm\", \"Search algorithm\", \"Search engines\", \"Semantic search\", \"Semantic web\", \"Sentiment analysis\", \"Similarity search\", \"Site search\", \"Text mining\", \"Text Retrieval Conference\", \"Tf–idf\", \"Vector space model\", \"Web crawler\", \"World Wide Web\"]\n",
        "Atext = \"0000000000000000011000000000000100100100000000000000010000000000000000000000000000000101100000000000100010000000000000000000001000001000000010000000100000000000000110000001111000000000000111100010000100100000000000000010000000000001000000000000000000001100000000000000110001000010001001000100000000000100100000001010000000000000000000000000000010000000000000000000000000000000001000000000000000000000000000000000010000000000000000000000000000001000000001000000000000000110000000010001000000000100000010000000110001000010000000000000000000000000000000000000000000001000000001000000000000000000000000010010010100000000000010001000000000000000100001000000010000000000000000000000000010000000000001000010000000000001001010001000000100000100010100000100001110101100000000000000000000100000000000000000000000010000000011000000000000000000000000000000000100000000000000101000000010000000000000000000000000000100100000000000000000000000100001000000000000001000000000000010000000000100000000000000000000000000000000001010010000000001001010000010110000000000000000000000000010000000000000000000000000000000000000001000000000000000000000000000011000000000000000000000001100001000000110000000000000001010010000110000000000001000000000000000010000100000100001000000000001100000100000000010000000000001000000000000010010000000000000000000000000001000000000000001110000000010100000000000100001100000100011010100101000000000000001000000000001000000000000001000000000000100001000001000000000000100100000000000010000101001001000000000100000000000000010000000000000001110010000010010100010010110000000000000111001000010\"\n",
        "\n",
        "def load(text, w=40):\n",
        "    return np.array([float(a) for a in text]).reshape((w, -1))\n",
        "\n",
        "A = load(Atext)\n",
        "\n",
        "plt.imshow(A)\n",
        "plt.show()"
      ]
    },
    {
      "cell_type": "markdown",
      "metadata": {
        "id": "zml3CjrHgjxJ"
      },
      "source": [
        "## Prepare a stochastic matrix M based on adjacency matrix A\n",
        "\n",
        "Write the code which norms matrix A column-wise. Add $\\frac{1}{N}$ factor where outdegree is 0.\n",
        "\n",
        "You can refer to wikipedia's [Google Matrix](https://en.wikipedia.org/wiki/Google_matrix#Adjacency_matrix_A_and_Markov_matrix_S) article. In construction algorthm this matrix is referred as `Markov matrix S`."
      ]
    },
    {
      "cell_type": "code",
      "source": [
        "temp = A.sum(axis = 0)"
      ],
      "metadata": {
        "id": "efNmcBSfl0WX"
      },
      "execution_count": 33,
      "outputs": []
    },
    {
      "cell_type": "code",
      "source": [
        "temp"
      ],
      "metadata": {
        "colab": {
          "base_uri": "https://localhost:8080/"
        },
        "id": "kHSpLwGqm_0l",
        "outputId": "81ceb800-d980-4589-aad3-a25ef63e2ecf"
      },
      "execution_count": 34,
      "outputs": [
        {
          "output_type": "execute_result",
          "data": {
            "text/plain": [
              "array([ 7.,  0.,  5.,  3.,  5.,  5.,  1.,  5.,  4.,  1.,  1.,  3.,  9.,\n",
              "       19.,  3.,  0.,  0.,  4.,  9.,  1.,  5.,  3.,  1.,  2., 12.,  2.,\n",
              "        2.,  2., 11.,  9.,  6.,  5.,  3.,  6.,  8.,  0.,  5.,  4.,  7.,\n",
              "        6.])"
            ]
          },
          "metadata": {},
          "execution_count": 34
        }
      ]
    },
    {
      "cell_type": "code",
      "source": [
        "len(pages)"
      ],
      "metadata": {
        "colab": {
          "base_uri": "https://localhost:8080/"
        },
        "id": "7a9uEoTvjZA2",
        "outputId": "94e35080-0d97-4861-b926-ec79e34ac35d"
      },
      "execution_count": 35,
      "outputs": [
        {
          "output_type": "execute_result",
          "data": {
            "text/plain": [
              "40"
            ]
          },
          "metadata": {},
          "execution_count": 35
        }
      ]
    },
    {
      "cell_type": "code",
      "execution_count": 36,
      "metadata": {
        "id": "s3sj-bkRgjxJ"
      },
      "outputs": [],
      "source": [
        "M = A.copy()\n",
        "\n",
        "temp = np.sum(A, axis =0)\n",
        "for i, column in enumerate(temp):\n",
        "  val = M[:,i].sum()\n",
        "  if(val != 0):\n",
        "    M[:,i] /= val\n",
        "  else:\n",
        "    M[:,i] = 1/len(pages)\n",
        "\n",
        "# your code is here. Resulting matrix is shown below."
      ]
    },
    {
      "cell_type": "code",
      "execution_count": 37,
      "metadata": {
        "colab": {
          "base_uri": "https://localhost:8080/",
          "height": 431
        },
        "id": "y_KPJeObgjxK",
        "outputId": "cc425ddc-51f8-4ad5-d62c-82f9ae43def5"
      },
      "outputs": [
        {
          "output_type": "display_data",
          "data": {
            "text/plain": [
              "<Figure size 640x480 with 1 Axes>"
            ],
            "image/png": "[encoded data removed]"
          },
          "metadata": {}
        }
      ],
      "source": [
        "plt.imshow(M)\n",
        "plt.show()"
      ]
    },
    {
      "cell_type": "markdown",
      "metadata": {
        "id": "a_tgdkArgjxK"
      },
      "source": [
        "## Prepare the Google matrix\n",
        "\n",
        "Compute the Google matrix as described in construction block of [Google Matrix](https://en.wikipedia.org/wiki/Google_matrix#Construction_of_Google_matrix_G) article. \n",
        "\n",
        "`S` there is our matrix $\\mathcal{M}$.\n",
        "\n",
        "$\\alpha$ is a damping factor, which is accepted to be exactly `0.85`."
      ]
    },
    {
      "cell_type": "code",
      "execution_count": 38,
      "metadata": {
        "id": "zGYXEjFKgjxK"
      },
      "outputs": [],
      "source": [
        "def to_google(M, alpha=0.85):\n",
        "  return alpha*M + (1-alpha)*(1/len(pages))"
      ]
    },
    {
      "cell_type": "code",
      "execution_count": 39,
      "metadata": {
        "id": "LdX8iI68gjxK"
      },
      "outputs": [],
      "source": [
        "G = to_google(M)"
      ]
    },
    {
      "cell_type": "code",
      "execution_count": 40,
      "metadata": {
        "colab": {
          "base_uri": "https://localhost:8080/",
          "height": 431
        },
        "id": "7Dc3NEk9gjxL",
        "outputId": "61b1127a-df76-405a-d157-8cbf2f9b02d4"
      },
      "outputs": [
        {
          "output_type": "display_data",
          "data": {
            "text/plain": [
              "<Figure size 640x480 with 1 Axes>"
            ],
            "image/png": "[encoded data removed]"
          },
          "metadata": {}
        }
      ],
      "source": [
        "plt.imshow(G)\n",
        "plt.show()"
      ]
    },
    {
      "cell_type": "markdown",
      "metadata": {
        "id": "q_uHGdLegjxL"
      },
      "source": [
        "## Solve naively\n",
        "\n",
        "Everything is ready for solution! Obvious way -- is to use algeraic solution of the equation.\n",
        "\n",
        "$\\mathbf{R} = d \\mathcal{M}\\mathbf{R} + \\frac{1-d}{N} \\mathbb{1}$\n",
        "\n",
        "Remember the hack from the lecture, that:\n",
        "\n",
        "$\\mathbb{E}\\times \\mathbf{R}=\\mathbb{1}$"
      ]
    },
    {
      "cell_type": "code",
      "execution_count": 41,
      "metadata": {
        "id": "kcNwgw8PgjxL",
        "colab": {
          "base_uri": "https://localhost:8080/"
        },
        "outputId": "6bde754f-34c3-4bfc-ae6f-cb76e5b17651"
      },
      "outputs": [
        {
          "output_type": "stream",
          "name": "stdout",
          "text": [
            "[13  1 10 27 26  8 23 24 19  9 16 22 20 30 33  6 35  2  5 32 28 15 14 36\n",
            " 38 12  3 37 11 21 17 31 25  0  7 29 34 39  4 18]\n"
          ]
        }
      ],
      "source": [
        "# your code here\n",
        "d = 0.85\n",
        "N = A.shape[0]\n",
        "R = np.ones(N)/N\n",
        "while True:\n",
        "  new_R = d* np.dot(M,R) + (1-d)/N + np.ones(N)\n",
        "  if np.allclose(new_R, R):\n",
        "    break\n",
        "  R = new_R\n",
        "print(np.argsort(R.reshape(-1)))"
      ]
    },
    {
      "cell_type": "markdown",
      "metadata": {
        "id": "nK7WQQ9tgjxL"
      },
      "source": [
        "## Solve with power method\n",
        "\n",
        "You can also use [Power method](https://en.wikipedia.org/wiki/Power_iteration) to obtain dominating eigenvector.\n",
        "\n",
        "$R = G^{N}v_{random}$"
      ]
    },
    {
      "cell_type": "code",
      "source": [
        "def power_iteration(A, num_iterations: int):\n",
        "    # Ideally choose a random vector\n",
        "    # To decrease the chance that our vector\n",
        "    # Is orthogonal to the eigenvector\n",
        "    b_k = np.random.rand(A.shape[1])\n",
        "\n",
        "    for _ in range(num_iterations):\n",
        "        # calculate the matrix-by-vector product Ab\n",
        "        b_k1 = np.dot(A, b_k)\n",
        "\n",
        "        # calculate the norm\n",
        "        b_k1_norm = np.linalg.norm(b_k1)\n",
        "\n",
        "        # re normalize the vector\n",
        "        b_k = b_k1 / b_k1_norm\n",
        "\n",
        "    return b_k"
      ],
      "metadata": {
        "id": "rSXEZCJfsOo_"
      },
      "execution_count": 42,
      "outputs": []
    },
    {
      "cell_type": "code",
      "execution_count": 43,
      "metadata": {
        "colab": {
          "base_uri": "https://localhost:8080/"
        },
        "id": "-_-VlP_dgjxL",
        "outputId": "c5cfc955-d6ba-4d5f-a78b-8889bccc391f"
      },
      "outputs": [
        {
          "output_type": "stream",
          "name": "stdout",
          "text": [
            "[13  1 10 27 26  8 23 24 19  9 16 22 20 30 33  6 35  2  5 32 28 15 14 36\n",
            " 38 12  3 37 11 21 17 31 25  0  7 29 34 39  4 18]\n"
          ]
        }
      ],
      "source": [
        "# your code here\n",
        "v = power_iteration(G,90)\n",
        "R = G@v\n",
        "\n",
        "assert np.allclose(v, R)\n",
        "print(np.argsort(v.reshape(-1)))"
      ]
    },
    {
      "cell_type": "markdown",
      "metadata": {
        "id": "BhyKphzlgjxM"
      },
      "source": [
        "## Built-in check\n",
        "\n",
        "This code below allows you to check your solution, but we do not accept it as a solution."
      ]
    },
    {
      "cell_type": "code",
      "execution_count": 44,
      "metadata": {
        "colab": {
          "base_uri": "https://localhost:8080/"
        },
        "id": "14StWK5ugjxM",
        "outputId": "07e0e674-2f00-4fb5-a44d-fda1a5d82cd4"
      },
      "outputs": [
        {
          "output_type": "stream",
          "name": "stdout",
          "text": [
            "[13 10  1 27 26  8 23 24 19  9 16 22 20 30 33  6 35  2  5 32 28 15 14 36\n",
            " 38 12  3 37 11 21 17 31 25  0  7 29 34 39  4 18]\n"
          ]
        }
      ],
      "source": [
        "evals, evecs = np.linalg.eig(G)\n",
        "print(np.argsort(evecs[:, 0]))"
      ]
    },
    {
      "cell_type": "markdown",
      "metadata": {
        "id": "zYLlv_ZLgjxM"
      },
      "source": [
        "# Ranking\n",
        "\n",
        "Print the ranking. First should come the documents with *the highest* PageRank."
      ]
    },
    {
      "cell_type": "code",
      "execution_count": 45,
      "metadata": {
        "colab": {
          "base_uri": "https://localhost:8080/"
        },
        "id": "zYM8kI2bgjxM",
        "outputId": "bc7bff92-c109-44d2-af86-64c0d4781322"
      },
      "outputs": [
        {
          "output_type": "stream",
          "name": "stdout",
          "text": [
            "18 \t Latent semantic analysis\n",
            "4 \t Database\n",
            "39 \t World Wide Web\n",
            "34 \t Text mining\n",
            "29 \t Semantic search\n",
            "7 \t Dimensionality reduction\n",
            "0 \t Bag-of-words model\n",
            "25 \t Relevance (information retrieval)\n",
            "31 \t Sentiment analysis\n",
            "17 \t Latent Dirichlet allocation\n",
            "21 \t Netflix Prize\n",
            "11 \t Hypertext\n",
            "37 \t Vector space model\n",
            "3 \t Content-based image retrieval\n",
            "12 \t Image retrieval\n",
            "38 \t Web crawler\n",
            "36 \t Tf–idf\n",
            "14 \t Information system\n",
            "15 \t K-nearest neighbors algorithm\n",
            "28 \t Search engines\n",
            "32 \t Similarity search\n",
            "5 \t Deep learning\n",
            "2 \t Cluster analysis\n",
            "35 \t Text Retrieval Conference\n",
            "6 \t Desktop search\n",
            "33 \t Site search\n",
            "30 \t Semantic web\n",
            "20 \t Multimedia information retrieval\n",
            "22 \t Netflix\n",
            "16 \t Language model\n",
            "19 \t Low-rank approximation\n",
            "9 \t Eigenvector\n",
            "24 \t Recommender systems\n",
            "23 \t Ranking (information retrieval)\n",
            "26 \t Rocchio algorithm\n",
            "8 \t Discounted Cumulative Gain\n",
            "27 \t Search algorithm\n",
            "1 \t Bayes' theorem\n",
            "10 \t Full-text search\n",
            "13 \t Information retrieval\n"
          ]
        }
      ],
      "source": [
        "for k in np.argsort(-v.flatten()):\n",
        "    print(k, \"\\t\", pages[k])"
      ]
    }
  ],
  "metadata": {
    "kernelspec": {
      "display_name": "Python 3 (ipykernel)",
      "language": "python",
      "name": "python3"
    },
    "language_info": {
      "codemirror_mode": {
        "name": "ipython",
        "version": 3
      },
      "file_extension": ".py",
      "mimetype": "text/x-python",
      "name": "python",
      "nbconvert_exporter": "python",
      "pygments_lexer": "ipython3",
      "version": "3.9.7"
    },
    "colab": {
      "provenance": []
    }
  },
  "nbformat": 4,
  "nbformat_minor": 0
}