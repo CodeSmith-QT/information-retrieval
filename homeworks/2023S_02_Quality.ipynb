{
  "cells": [
    {
      "cell_type": "markdown",
      "metadata": {
        "id": "vQM-olPPZIQN"
      },
      "source": [
        "# 1. Measure and improve\n",
        "\n",
        "How do we know that search engine's quality improved (or at least haven't deteriorated) because of our changes?\n",
        "\n",
        "All we need is a way to ***evaluate*** our search engine. We will consider some of the popular evaluation techniques:\n",
        "\n",
        "1. Mean Average Precision\n",
        "2. 11-Point Interpolated Average\n",
        "3. Normalized Discounted Cumulative Gain (NDCG)\n",
        "4. pFound\n",
        "\n",
        "<!--We will apply them in the context of ranking with language models and will compare two ways of smoothing: additive and Jelinek-Mercer smoothing.\n",
        "-->\n",
        "\n",
        "It's best to go through the [book](https://nlp.stanford.edu/IR-book/pdf/irbookonlinereading.pdf) *chapter 8*, concretely, *8.4* to understand the key concepts of this lab. Here we will only present some excerpts from it."
      ]
    },
    {
      "cell_type": "markdown",
      "metadata": {
        "id": "iP3napNaZIQQ"
      },
      "source": [
        "## 1.1. [10] Mean Average Precision\n",
        "\n",
        "The most standard metric among the TREC community is *Mean Average Precision* *(MAP)*, which provides a single-figure measure of quality across recall levels. Among evaluation measures, MAP has been shown to have especially good discrimination and stability. For a single information need, Average Precision is the average of the precision value obtained for the set of top $k$ documents existing\n",
        "after each relevant document is retrieved, and this value is then averaged over information needs (queries). \n",
        "Assume we have a bucket $Q$ of queries $q_j\\in Q$.\n",
        "If the set of **relevant documents** for an information need (query) $q_j$ is {d<sub>1</sub>, . . . d<sub>m<sub>j</sub></sub>} and R<sub>jk</sub> is the set of ranked retrieval results from the top result until you get to document d<sub>k</sub>, then\n",
        "\n",
        "![](https://i.imgur.com/EGQMHVq.png)\n",
        "\n",
        "Implement this metric in the `mean_avg_precision` function.\n",
        "\n",
        "**NB** Don't make the name of [the metric confuse you](https://towardsdatascience.com/breaking-down-mean-average-precision-map-ae462f623a52). *Average Precision* is the term, which corresponds to the area under precision-recall curve. It's computation is tricky. We suggest to start with implementing [$AveP$](https://en.wikipedia.org/wiki/Evaluation_measures_(information_retrieval)#Average_precision)."
      ]
    },
    {
      "cell_type": "code",
      "execution_count": null,
      "metadata": {
        "id": "xvcs-ZuhZIQR"
      },
      "outputs": [],
      "source": [
        "import numpy as np\n",
        "def mean_avg_precision(search_results, relevance):\n",
        "    # TODO: calculate MAP score for search results, treating relevance judgments as binary - either relevant or not.\n",
        "    #\n",
        "    # search_results: list of lists of ranked results for each query [[doc_id1, doc_id2,...], ...]\n",
        "    # note that for tests to pass, the i-th result in search_results should correspond to (i+1)-th query_id.  \n",
        "    # relevance: dict, query_id:[(relevant_doc_id1, score1), (relevant_doc_id2, score2), ...]  \n",
        "    def get_precision(relevant_docs, search_result):      \n",
        "      correct = 0\n",
        "      total = 0\n",
        "      result = []    \n",
        "      for doc in search_result:\n",
        "        total+=1\n",
        "        if doc in relevant_docs:\n",
        "          correct += 1\n",
        "          result.append(correct/total)\n",
        "      return result\n",
        "     \n",
        "    result = []\n",
        "    for i, search_result in enumerate(search_results):      \n",
        "      relevant_docs = list(map(lambda x: x[0],relevance[i+1]))\n",
        "      temp = get_precision(relevant_docs, search_result)\n",
        "      result.append(np.mean(temp))                \n",
        "    return np.mean(result)"
      ]
    },
    {
      "cell_type": "markdown",
      "metadata": {
        "id": "ZtVoOW2NZIQS"
      },
      "source": [
        "### 1.1.1. Tests"
      ]
    },
    {
      "cell_type": "code",
      "execution_count": null,
      "metadata": {
        "colab": {
          "base_uri": "https://localhost:8080/"
        },
        "id": "sKdHxFP9ZIQS",
        "outputId": "b0887637-c939-485c-e760-d85cbceeb71c"
      },
      "outputs": [
        {
          "output_type": "stream",
          "name": "stdout",
          "text": [
            "map_test 0.6464285714285714\n"
          ]
        }
      ],
      "source": [
        "import numpy as np\n",
        "\n",
        "test_relevance = {1: [(9, 1), (1, 2), (8, 3)], 2: [(5, 1), (9, 2), (6, 3)], \n",
        "                  3: [(9, 1), (4, 2), (6, 3)], 4: [(10, 1), (4, 2), (7, 3)], \n",
        "                  5: [(4, 1), (2, 2), (8, 3)], 6: [(2, 1), (9, 2), (4, 3)], \n",
        "                  7: [(1, 1), (2, 2), (3, 3)], 8: [(3, 1), (2, 2), (6, 3)], \n",
        "                  9: [(1, 1), (4, 2), (3, 3)], 10: [(10, 1), (7, 2), (8, 3)]}\n",
        "test_results = [[4, 5, 3, 6, 1, 2, 8, 9, 10, 7], [7, 5, 6, 3, 1, 8, 9, 4, 2, 10], \n",
        "                [8, 3, 4, 5, 9, 6, 1, 10, 2, 7], [4, 5, 7, 3, 6, 10, 1, 9, 2, 8], \n",
        "                [4, 8, 3, 5, 6, 7, 2, 1, 10, 9], [9, 7, 6, 5, 2, 4, 10, 1, 3, 8], \n",
        "                [3, 1, 5, 2, 10, 6, 7, 9, 8, 4], [9, 2, 4, 10, 8, 3, 7, 6, 1, 5], \n",
        "                [3, 4, 6, 1, 5, 10, 7, 2, 8, 9], [8, 10, 4, 1, 3, 7, 5, 6, 9, 2]]\n",
        "\n",
        "\n",
        "map_test = mean_avg_precision(test_results, test_relevance)\n",
        "print(\"map_test\", map_test)\n",
        "assert np.isclose(map_test, 0.646, atol=1e-03)\n",
        "assert mean_avg_precision(test_results[:5], test_relevance) > mean_avg_precision(test_results[5:10], test_relevance)"
      ]
    },
    {
      "cell_type": "markdown",
      "metadata": {
        "id": "5SO2wzM1ZIQT"
      },
      "source": [
        "## 1.2. [15] 11-Point Interpolated Average\n",
        "\n",
        "In a ranked retrieval context, appropriate sets of retrieved documents are naturally given by the top k retrieved documents. For each such set, precision and recall values can be plotted to give a precision-recall curve, such as this one (blue line):\n",
        "\n",
        "![](https://i.imgur.com/QnvDLAJ.png)\n",
        "\n",
        "Precision-recall curves have a distinctive saw-tooth shape: if the *(k + 1)<sup>th</sup>* document retrieved is nonrelevant then recall is the same as for the top k documents, but precision has dropped. If it is relevant, then both precision and recall increase, and the curve jags up and to the right.\n",
        "\n",
        "It is often useful to remove these jiggles and the standard way to do this is with an *interpolated precision*: the interpolated precision *p<sub>interp</sub>* at a certain recall level *r* is defined as the highest precision found for any recall level *r′* ≥ *r*:\n",
        "\n",
        "![](https://i.imgur.com/GMl2rQw.png)\n",
        "\n",
        "The justification is that almost anyone would be prepared to look at a few more documents if it would increase the percentage of the viewed set that were relevant (that is, if the precision of the larger set is higher). Interpolated precision is shown by a red line in the figure above.\n",
        "\n",
        "Examining this information for a single query may be useful, but usually we are more interested in a composite metrics, which will score over all test queries. The traditional way of doing this is the *11-point interpolated average*. For each information need, the interpolated precision is measured at the 11 recall levels of 0.0, 0.1, 0.2, . . . , 1.0. Then we average interpolated precision over all queries in the test collection and plot, like here:\n",
        "\n",
        "![](https://i.imgur.com/6wDmtp2.png)\n",
        "\n",
        "\n",
        "Plotting a number of such graphs for different versions of search engine on the same plot helps to compare their performance.\n",
        "\n",
        "You need to incorporate this logic into `eleven_points_interpolated_avg` function. Break it down to subfuctions as it seems necessary to you."
      ]
    },
    {
      "cell_type": "code",
      "execution_count": null,
      "metadata": {
        "id": "pBv6vvhkZIQe"
      },
      "outputs": [],
      "source": [
        "import numpy as np\n",
        "import matplotlib.pyplot as plt\n",
        "\n",
        "def eleven_points_interpolated_avg(search_results, relevance, plot=True):\n",
        "    # TODO: return 11-points interpolated average over all queries. Refer to chapter 8.4 for explanation.\n",
        "    # First calculate values of precision-recall curve for each query, interpolate them, and average over all queries.\n",
        "    # This function is intended to use when for each query all documents are scored until the last relevant element\n",
        "    # is met. Treats relevance judgments as binary - either relevant or not.\n",
        "    # note that for tests to pass, the i-th result in search_results should correspond to (i+1)-th query_id.\n",
        "    #\n",
        "    # search_results: list of lists of ranked results for each query [[doc_id1, doc_id2,...], ...]\n",
        "    # note that for tests to pass, the i-th result in search_results should correspond to (i+1)-th query_id.  \n",
        "    # relevance: dict, query_id:[(relevant_doc_id1, score1), (relevant_doc_id2, score2), ...]\n",
        "    # return: interpolated_avg, list of 11 values    \n",
        "    def get_precision(relevant_docs, search_result):      \n",
        "      correct = 0\n",
        "      total = 0\n",
        "      result = []    \n",
        "      for doc in search_result:\n",
        "        total+=1\n",
        "        if doc in relevant_docs:\n",
        "          correct += 1\n",
        "        result.append(correct/total)\n",
        "      return result\n",
        "     \n",
        "    def get_recall(relevant_docs, search_result):\n",
        "      result = []\n",
        "      seen_relevant = 0\n",
        "      total_relevant = len(relevant_docs)\n",
        "      for doc in search_result:\n",
        "        if doc in relevant_docs:\n",
        "          seen_relevant += 1\n",
        "        result.append(seen_relevant/total_relevant)\n",
        "      return result\n",
        "    \n",
        "    def interpolate(recall, precision):\n",
        "      recall = np.array(recall)\n",
        "      precision = np.array(precision)\n",
        "      recall_steps = np.arange(0,1.1,0.1)\n",
        "      result = []\n",
        "      for step in recall_steps:\n",
        "        result.append(np.max(precision[recall >=step]))\n",
        "      return result\n",
        "      \n",
        "\n",
        "    result = np.zeros(11)\n",
        "    for i, search_result in enumerate(search_results):      \n",
        "      relevant_docs = list(map(lambda x: x[0],relevance[i+1]))\n",
        "      precision = get_precision(relevant_docs, search_result)\n",
        "      recall = get_recall(relevant_docs, search_result)\n",
        "      temp = np.array(interpolate(recall, precision))\n",
        "      result += temp\n",
        "    if plot:\n",
        "      plt.plot(np.arange(0,1.1,0.1), result/len(search_results))\n",
        "      plt.show()    \n",
        "    return result/len(search_results)"
      ]
    },
    {
      "cell_type": "markdown",
      "metadata": {
        "id": "KHyJgmd2ZIQf"
      },
      "source": [
        "### 1.2.1.Tests"
      ]
    },
    {
      "cell_type": "code",
      "execution_count": null,
      "metadata": {
        "id": "LZly6qi1ZIQf",
        "colab": {
          "base_uri": "https://localhost:8080/",
          "height": 265
        },
        "outputId": "4044968a-64f9-4c78-bfa7-5a7ab326b4e7"
      },
      "outputs": [
        {
          "output_type": "display_data",
          "data": {
            "text/plain": [
              "<Figure size 432x288 with 1 Axes>"
            ],
            "image/png": "[encoded data removed]"
          },
          "metadata": {
            "needs_background": "light"
          }
        }
      ],
      "source": [
        "eleven_test = eleven_points_interpolated_avg(test_results, test_relevance, plot=True)\n",
        "assert all(eleven_test[k] >= eleven_test[k+1] for k in range(len(eleven_test)-1))"
      ]
    },
    {
      "cell_type": "markdown",
      "metadata": {
        "id": "LJnnDt8RZIQg"
      },
      "source": [
        "## 1.3. [10] Normalized Discounted Cumulative Gain\n",
        "\n",
        "NDCG metric is designed for situations of non-binary notions of relevance. It is evaluated over some number $k$ of top search results (in our case we will evaluate over the whole dataset, since it is small). \n",
        "\n",
        "For a set of queries $Q$, let $R(j,d)$ be the relevance score assessors gave to document $d$ for query $j$. Then,\n",
        "\n",
        "![](https://i.imgur.com/LLogCYa.png)\n",
        "\n",
        "where $Z_{kj}$ is a normalization factor calculated to make it so that a perfect ranking’s NDCG at $k$ for query $j$ is 1. In other words, we divide calculated DCG score by ideal DCG score. \n",
        "\n",
        "Implement this metric in `NDCG` function."
      ]
    },
    {
      "cell_type": "code",
      "execution_count": null,
      "metadata": {
        "id": "0SmbLb9iZIQg"
      },
      "outputs": [],
      "source": [
        "import math \n",
        "\n",
        "def NDCG(search_results, relevance):\n",
        "    # TODO: compute NDCG score for search results. Here relevance is not considered as binary - the bigger\n",
        "    # the judgement score is, the more relevant is the document to a query. Because in our cranfield dataset relevance\n",
        "    # judgements are presented in a different way (1 is most relevant, 4 is least), we will need to do smth with it. \n",
        "    # The simplest is to invert it, replacing each score with (5-score). For example, if the score was 2, it becomes 5-2=3.\n",
        "    # To find normalization factor for each query, think in this direction - for this particular query what would be an\n",
        "    # ideal DCG score? What documents should have (ideally) been returned by the search engine to maximize the DCG score?\n",
        "    # When you find it, just normalize the real DCG score by ideal DCG score, that's it.\n",
        "    #\n",
        "    # search_results: list of lists of ranked results for each query [[doc_id1, doc_id2,...], ...]\n",
        "    # note that for tests to pass, the i-th result in search_results should correspond to (i+1)-th query_id.  \n",
        "    # relevance: dict, query_id:[(relevant_doc_id1, score1), (relevant_doc_id2, score2), ...]       \n",
        "    def DCG(search_result, relevant_docs):\n",
        "      sum = 0\n",
        "      for i, doc in enumerate(search_result):\n",
        "        if doc in relevant_docs:\n",
        "          sum += (2**relevant_docs[doc] - 1)/math.log2(i+2)        \n",
        "      return sum\n",
        "\n",
        "    def IDCG(search_result, relevant_docs):\n",
        "      _sort = sorted(relevant_docs, key=relevant_docs.get, reverse=True)\n",
        "      sum = 0\n",
        "      for i, doc in enumerate(_sort):\n",
        "          sum += (2**relevant_docs[doc] - 1)/math.log2(i+2)    \n",
        "      return sum\n",
        "\n",
        "    result = []\n",
        "    for i, search_result in enumerate(search_results):      \n",
        "      relevant_docs = dict((x[0],5-x[1]) for x in relevance[i+1])\n",
        "      dcg = DCG(search_result, relevant_docs)\n",
        "      idcg = IDCG(search_result, relevant_docs)\n",
        "      result.append(dcg/idcg)\n",
        "    return np.mean(result)"
      ]
    },
    {
      "cell_type": "markdown",
      "metadata": {
        "id": "Lc6ZA25rZIQh"
      },
      "source": [
        "### 1.3.1. Tests"
      ]
    },
    {
      "cell_type": "code",
      "execution_count": null,
      "metadata": {
        "id": "59q_DnwFZIQh",
        "colab": {
          "base_uri": "https://localhost:8080/"
        },
        "outputId": "2d20050e-c20b-479a-c4de-51f6adc9891d"
      },
      "outputs": [
        {
          "output_type": "stream",
          "name": "stdout",
          "text": [
            "ndcg_test 0.6409675295633275\n"
          ]
        }
      ],
      "source": [
        "ndcg_test = NDCG(test_results, test_relevance)\n",
        "print(\"ndcg_test\", ndcg_test)\n",
        "assert np.isclose(ndcg_test, 0.640, atol=1e-03)\n",
        "assert NDCG(test_results[:5], test_relevance) < NDCG(test_results[5:10], test_relevance)"
      ]
    },
    {
      "cell_type": "markdown",
      "metadata": {
        "id": "5Dv-flrXZIQh"
      },
      "source": [
        "## 1.4. [15] pFound ## \n",
        "**pFound** -- ranking metric invented in [Yandex](http://romip.ru/romip2009/15_yandex.pdf). This metric models user behaviour when looking at the search engine representation page (SERP). Metric assumes a user is inspecting a list from the top to the bottom. There are 2 global parameters, controlling behaviour:\n",
        "- `pBreak` -- how probable, that the user will become tired and just quit at this position (`0.15` by default).\n",
        "- `pRel` -- how probable the user will click the document if this document is relevant (`0.4` by default for a relevan document, `0` is given to irrelevant).\n",
        "\n",
        "Then, to compute pFound for the exact page we do:\n",
        "\n",
        "$pLook_i = pLook_{i-1}*(1 - pBreak)*(1 - pRel_{i-1})$\n",
        "\n",
        "$pFound = \\sum_{i=1}^{N}pLook_i*pRel_i$\n",
        "\n",
        "Implement `pFound` below."
      ]
    },
    {
      "cell_type": "code",
      "execution_count": null,
      "metadata": {
        "id": "-r9np1fpZIQi"
      },
      "outputs": [],
      "source": [
        "import math \n",
        "\n",
        "def pFound(search_results, relevance):\n",
        "    def PLook(search_result, relevant_docs):\n",
        "      result = [1]\n",
        "      pbreak = 0.15\n",
        "      for i,doc in enumerate(search_result[1:]):\n",
        "        prev = search_result[i]\n",
        "        prel = 0.4 if prev in relevant_docs else 0\n",
        "        result.append(result[i]* (1 -pbreak) * (1-prel))\n",
        "      return result\n",
        "    \n",
        "    def PFound(plook, search_result, relevant_docs):      \n",
        "      sum = 0\n",
        "      for look,doc in zip(plook,search_result):\n",
        "        prel = 0.4 if doc in relevant_docs else 0\n",
        "        sum += look * prel\n",
        "      return sum\n",
        "\n",
        "    result = []\n",
        "    for i, search_result in enumerate(search_results):      \n",
        "      relevant_docs = list(map(lambda x: x[0],relevance[i+1]))\n",
        "      looks = PLook(search_result, relevant_docs)\n",
        "      found = PFound(looks, search_result, relevant_docs)\n",
        "      result.append(found)\n",
        "    return np.mean(result)\n",
        "\n",
        "    # TODO: calculate pFound score for search results, treating relevance judgments as binary - either relevant or not\n",
        "    \n",
        "    # search_results: list of lists of ranked results for each query [[doc_id1, doc_id2,...], ...]\n",
        "    # relevance: dict, query_id:[(relevant_doc_id1, score1), (relevant_doc_id2, score2), ...]\n",
        "    # return average value for search results \n",
        "    \n",
        "    return 0"
      ]
    },
    {
      "cell_type": "markdown",
      "metadata": {
        "id": "aP1FXRAAZIQi"
      },
      "source": [
        "### 1.4.1. Tests"
      ]
    },
    {
      "cell_type": "code",
      "execution_count": null,
      "metadata": {
        "id": "_cJrxyjuZIQi",
        "colab": {
          "base_uri": "https://localhost:8080/"
        },
        "outputId": "6a8553b6-be79-441e-e681-2828f26a40e5"
      },
      "outputs": [
        {
          "output_type": "stream",
          "name": "stdout",
          "text": [
            "pFound 0.5821558180674999\n"
          ]
        }
      ],
      "source": [
        "pFound_test = pFound(test_results, test_relevance)\n",
        "print(\"pFound\", pFound_test)\n",
        "assert np.isclose(pFound_test, 0.582, atol=1e-03)\n",
        "assert pFound(test_results[:5], test_relevance) > pFound(test_results[5:10], test_relevance)"
      ]
    },
    {
      "cell_type": "code",
      "source": [],
      "metadata": {
        "id": "5WFVuTRE2qOf"
      },
      "execution_count": null,
      "outputs": []
    }
  ],
  "metadata": {
    "kernelspec": {
      "display_name": "Python 3 (ipykernel)",
      "language": "python",
      "name": "python3"
    },
    "language_info": {
      "codemirror_mode": {
        "name": "ipython",
        "version": 3
      },
      "file_extension": ".py",
      "mimetype": "text/x-python",
      "name": "python",
      "nbconvert_exporter": "python",
      "pygments_lexer": "ipython3",
      "version": "3.9.7"
    },
    "colab": {
      "provenance": []
    }
  },
  "nbformat": 4,
  "nbformat_minor": 0
}