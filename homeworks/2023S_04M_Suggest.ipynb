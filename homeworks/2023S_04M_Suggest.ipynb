{
  "cells": [
    {
      "cell_type": "markdown",
      "id": "7b3730f5-9365-4fb2-b008-750901048d47",
      "metadata": {
        "id": "7b3730f5-9365-4fb2-b008-750901048d47"
      },
      "source": [
        "# This is a master level homework on suggest"
      ]
    },
    {
      "cell_type": "code",
      "source": [
        "!pip install pygtrie"
      ],
      "metadata": {
        "colab": {
          "base_uri": "https://localhost:8080/"
        },
        "id": "OVulJszvvUhi",
        "outputId": "41a02517-8aea-4062-b175-f257d8ea4b21"
      },
      "id": "OVulJszvvUhi",
      "execution_count": 1,
      "outputs": [
        {
          "output_type": "stream",
          "name": "stdout",
          "text": [
            "Looking in indexes: https://pypi.org/simple, https://us-python.pkg.dev/colab-wheels/public/simple/\n",
            "Requirement already satisfied: pygtrie in /usr/local/lib/python3.10/dist-packages (2.5.0)\n"
          ]
        }
      ]
    },
    {
      "cell_type": "code",
      "source": [
        "!gunzip user-ct-test-collection-01.txt.gz"
      ],
      "metadata": {
        "id": "i3SzE1r7v3q9",
        "colab": {
          "base_uri": "https://localhost:8080/"
        },
        "outputId": "192abae2-fd5e-4cbd-fc1c-7c66a0331a29"
      },
      "id": "i3SzE1r7v3q9",
      "execution_count": 2,
      "outputs": [
        {
          "output_type": "stream",
          "name": "stdout",
          "text": [
            "gzip: user-ct-test-collection-01.txt.gz: No such file or directory\n"
          ]
        }
      ]
    },
    {
      "cell_type": "code",
      "source": [
        "import pandas as pd\n",
        "aol_data = pd.read_csv('user-ct-test-collection-01.txt', on_bad_lines='skip',sep='\\t')"
      ],
      "metadata": {
        "id": "IVBsePLZv5N8"
      },
      "id": "IVBsePLZv5N8",
      "execution_count": 3,
      "outputs": []
    },
    {
      "cell_type": "code",
      "source": [
        "aol_data.Query.fillna('',inplace=True)"
      ],
      "metadata": {
        "id": "XT0tYci41bHP"
      },
      "id": "XT0tYci41bHP",
      "execution_count": 4,
      "outputs": []
    },
    {
      "cell_type": "code",
      "source": [
        "import nltk\n",
        "from nltk.corpus import stopwords\n",
        "from nltk.tokenize import word_tokenize\n",
        "nltk.download('punkt')\n",
        "nltk.download('stopwords')\n",
        "\n",
        "stop_words = set(stopwords.words('english'))\n",
        "def preprocess(text):   \n",
        "  temp = [token.lower().strip() for token in word_tokenize(text) if token.lower() not in stop_words]\n",
        "  return ' '.join(temp).lower()"
      ],
      "metadata": {
        "colab": {
          "base_uri": "https://localhost:8080/"
        },
        "id": "7qLA8R321jdf",
        "outputId": "9746b784-d289-4c62-decf-8b5d3aabe941"
      },
      "id": "7qLA8R321jdf",
      "execution_count": 5,
      "outputs": [
        {
          "output_type": "stream",
          "name": "stderr",
          "text": [
            "[nltk_data] Downloading package punkt to /root/nltk_data...\n",
            "[nltk_data]   Package punkt is already up-to-date!\n",
            "[nltk_data] Downloading package stopwords to /root/nltk_data...\n",
            "[nltk_data]   Package stopwords is already up-to-date!\n"
          ]
        }
      ]
    },
    {
      "cell_type": "code",
      "source": [
        "import pygtrie\n",
        "\n",
        "def get_trie(aol_data):\n",
        "  aol_trie = pygtrie.CharTrie()\n",
        "  for i, row in aol_data.iterrows():\n",
        "    if bool(row[\"Query\"]):\n",
        "      filtered_sentence = preprocess(row[\"Query\"])\n",
        "      if filtered_sentence in aol_trie:\n",
        "        prev_value = aol_trie[filtered_sentence]\n",
        "        aol_trie[filtered_sentence] = {\n",
        "            'queries': prev_value['queries']+ [row[\"Query\"].lower()],\n",
        "            'ranks': prev_value['ranks']+[row['ItemRank']],\n",
        "            'urls': prev_value['urls']+[row[\"ClickURL\"]]\n",
        "        }    \n",
        "      else:\n",
        "        aol_trie[filtered_sentence] = {\n",
        "            'queries': [row[\"Query\"].lower()],\n",
        "            'ranks': [row['ItemRank']],\n",
        "            'urls': [row[\"ClickURL\"]]\n",
        "        }\n",
        "  return aol_trie\n"
      ],
      "metadata": {
        "id": "m2jYRYLG1cxA"
      },
      "id": "m2jYRYLG1cxA",
      "execution_count": 6,
      "outputs": []
    },
    {
      "cell_type": "code",
      "source": [
        "stops = set('a on at of to is from for and with using the in &'.split())\n",
        "def complete_user_query(query: str, trie, top_k=5) -> list[str]:\n",
        "  query = [w.lower() for w in word_tokenize(query) if not w.lower() in stops]\n",
        "  query = ' '.join(query).lower()\n",
        "  result = {}\n",
        "  if trie.has_node(query):\n",
        "    for key, obj in trie.iteritems(query):\n",
        "      for i,item in enumerate(obj['queries']):\n",
        "        if item not in result:\n",
        "          result[item] = {\n",
        "              'url': obj['urls'][i],\n",
        "              'ranks': obj['ranks'][i],\n",
        "              'count':1\n",
        "          }\n",
        "        else:\n",
        "          rank = obj['ranks'][i]\n",
        "          result[item]['count'] += 1\n",
        "          if rank < result[item]['ranks']:\n",
        "            result[item]['url'] = obj['urls'][i]\n",
        "  return sorted(result, key =lambda key: result[key]['count'], reverse=True)[:top_k]"
      ],
      "metadata": {
        "id": "f_Fgg9Sb24yp"
      },
      "id": "f_Fgg9Sb24yp",
      "execution_count": 7,
      "outputs": []
    },
    {
      "cell_type": "code",
      "source": [
        "def naive_search(data, query, top_k):\n",
        "  groups = data[data.Query.str.lower().str.contains(\"the best\")].groupby('Query')\n",
        "  result = {}\n",
        "  for (key, group) in groups:\n",
        "    min_value = group['ItemRank'].min()\n",
        "    if(pd.isnull(min_value)):\n",
        "      result[key] = {\n",
        "          'count': group.shape[0],\n",
        "          'url': group['ClickURL'].iloc[0]       \n",
        "      }\n",
        "    else:\n",
        "      temp = group[group['ItemRank'] == min_value].iloc[0]\n",
        "      result[key] = {\n",
        "          'count': group.shape[0],\n",
        "          'url': temp['ClickURL']       \n",
        "      }\n",
        "  return sorted(result, key =lambda key: result[key]['count'], reverse=True)[:top_k]"
      ],
      "metadata": {
        "id": "mREObDKcAkO7"
      },
      "id": "mREObDKcAkO7",
      "execution_count": 8,
      "outputs": []
    },
    {
      "cell_type": "code",
      "source": [
        "pip install autocorrect"
      ],
      "metadata": {
        "colab": {
          "base_uri": "https://localhost:8080/"
        },
        "id": "0NNv4wESKv7y",
        "outputId": "323f5d19-ed66-4c6b-c159-f0a9c10943e5"
      },
      "id": "0NNv4wESKv7y",
      "execution_count": 9,
      "outputs": [
        {
          "output_type": "stream",
          "name": "stdout",
          "text": [
            "Looking in indexes: https://pypi.org/simple, https://us-python.pkg.dev/colab-wheels/public/simple/\n",
            "Requirement already satisfied: autocorrect in /usr/local/lib/python3.10/dist-packages (2.6.1)\n"
          ]
        }
      ]
    },
    {
      "cell_type": "code",
      "source": [
        "from collections import Counter\n",
        "count = Counter()\n",
        "\n",
        "for sentence in aol_data['Query']:\n",
        "  sentence_split = sentence.split()\n",
        "  for i, item in enumerate(sentence_split[1:]):\n",
        "    count[f'{sentence_split[i].lower()} {item.lower()}'] +=1\n",
        "  for item in sentence_split:\n",
        "    if item.lower() not in stop_words:\n",
        "      count[item.lower()] +=1  "
      ],
      "metadata": {
        "id": "2GN8hshgKxxP"
      },
      "id": "2GN8hshgKxxP",
      "execution_count": 10,
      "outputs": []
    },
    {
      "cell_type": "code",
      "source": [
        "from autocorrect import Speller\n",
        "temp = Counter({k: c for k, c in count.items() if c > 4})\n",
        "spell = Speller()\n",
        "spell.nlp_data.update(temp)"
      ],
      "metadata": {
        "id": "qnfYvsi-Kybt"
      },
      "id": "qnfYvsi-Kybt",
      "execution_count": 11,
      "outputs": []
    },
    {
      "cell_type": "markdown",
      "id": "9c2f46ab-a070-4fc5-961a-19e6c9415eb0",
      "metadata": {
        "id": "9c2f46ab-a070-4fc5-961a-19e6c9415eb0"
      },
      "source": [
        "## 1. [M][10] Assess how dataset size affect search time\n",
        "\n",
        "Study the speed of the trie data structure in $\\frac{1}{10}, \\frac{1}{4}, \\frac{1}{2}$, and full dataset. \n",
        "- Sample the data at random.\n",
        "- Plot the graph which shows how search time changes with dataset size.\n",
        "- Compare aganist bruteforce."
      ]
    },
    {
      "cell_type": "code",
      "source": [
        "aol_trie_1_10 = get_trie(aol_data.sample(frac=0.1, random_state=42))"
      ],
      "metadata": {
        "id": "4dMuKOp22IET"
      },
      "id": "4dMuKOp22IET",
      "execution_count": 12,
      "outputs": []
    },
    {
      "cell_type": "code",
      "source": [
        "aol_trie_1_4 = get_trie(aol_data.sample(frac=0.25, random_state=42))"
      ],
      "metadata": {
        "id": "X7rPB39g2WAy"
      },
      "id": "X7rPB39g2WAy",
      "execution_count": 13,
      "outputs": []
    },
    {
      "cell_type": "code",
      "source": [
        "aol_trie_1_2 = get_trie(aol_data.sample(frac=0.5, random_state=42))"
      ],
      "metadata": {
        "id": "8yW18Mvb2Ygu"
      },
      "id": "8yW18Mvb2Ygu",
      "execution_count": 14,
      "outputs": []
    },
    {
      "cell_type": "code",
      "source": [
        "aol_trie_full = get_trie(aol_data)"
      ],
      "metadata": {
        "id": "-WNUPVl44YOR"
      },
      "id": "-WNUPVl44YOR",
      "execution_count": 15,
      "outputs": []
    },
    {
      "cell_type": "code",
      "source": [
        "inp_queries = [\"inf\", \"the best \", \"information retrieval\", \"sherlock hol\", \"carnegie mell\", \n",
        "               \"babies r\", \"new york\", \"googol\", \"inter\", \"USA sta\", \"Barbara \"]\n",
        "time_full = []\n",
        "time_1_4 = []\n",
        "time_1_10 = []\n",
        "time_1_2 = []\n",
        "time_naive = []\n",
        "\n",
        "for inp in inp_queries:\n",
        "  temp_full = %timeit -o complete_user_query(inp, aol_trie_full)\n",
        "  temp_1_10 = %timeit -o complete_user_query(inp, aol_trie_1_10)\n",
        "  temp_1_4 = %timeit -o complete_user_query(inp, aol_trie_1_4)\n",
        "  temp_1_2 = %timeit -o complete_user_query(inp, aol_trie_1_2)\n",
        "  temp_naive = %timeit -o naive_search(aol_data,inp, 5)  \n",
        "  time_full.append(temp_full)\n",
        "  time_1_10.append(temp_1_10)\n",
        "  time_1_2.append(temp_1_2)\n",
        "  time_1_4.append(temp_1_4)\n",
        "  time_naive.append(temp_naive)"
      ],
      "metadata": {
        "colab": {
          "base_uri": "https://localhost:8080/"
        },
        "id": "_KlR2I0TAhjR",
        "outputId": "1de5fd14-765d-4a47-d402-7bc5fdad55fb"
      },
      "id": "_KlR2I0TAhjR",
      "execution_count": 16,
      "outputs": [
        {
          "output_type": "stream",
          "name": "stdout",
          "text": [
            "34.2 ms ± 8.06 ms per loop (mean ± std. dev. of 7 runs, 10 loops each)\n",
            "4.41 ms ± 84.1 µs per loop (mean ± std. dev. of 7 runs, 100 loops each)\n",
            "11.4 ms ± 2.67 ms per loop (mean ± std. dev. of 7 runs, 100 loops each)\n",
            "18.9 ms ± 3.63 ms per loop (mean ± std. dev. of 7 runs, 100 loops each)\n",
            "2.76 s ± 655 ms per loop (mean ± std. dev. of 7 runs, 1 loop each)\n",
            "39.2 ms ± 364 µs per loop (mean ± std. dev. of 7 runs, 10 loops each)\n",
            "6.8 ms ± 147 µs per loop (mean ± std. dev. of 7 runs, 100 loops each)\n",
            "16.1 ms ± 1.27 ms per loop (mean ± std. dev. of 7 runs, 100 loops each)\n",
            "36.8 ms ± 8.42 ms per loop (mean ± std. dev. of 7 runs, 10 loops each)\n",
            "2.62 s ± 417 ms per loop (mean ± std. dev. of 7 runs, 1 loop each)\n",
            "98.1 µs ± 25.8 µs per loop (mean ± std. dev. of 7 runs, 10000 loops each)\n",
            "111 µs ± 26.7 µs per loop (mean ± std. dev. of 7 runs, 10000 loops each)\n",
            "79.4 µs ± 777 ns per loop (mean ± std. dev. of 7 runs, 10000 loops each)\n",
            "97 µs ± 26 µs per loop (mean ± std. dev. of 7 runs, 10000 loops each)\n",
            "2.61 s ± 458 ms per loop (mean ± std. dev. of 7 runs, 1 loop each)\n",
            "150 µs ± 21.7 µs per loop (mean ± std. dev. of 7 runs, 10000 loops each)\n",
            "123 µs ± 30.5 µs per loop (mean ± std. dev. of 7 runs, 10000 loops each)\n",
            "140 µs ± 31.7 µs per loop (mean ± std. dev. of 7 runs, 10000 loops each)\n",
            "158 µs ± 34 µs per loop (mean ± std. dev. of 7 runs, 10000 loops each)\n",
            "2.77 s ± 575 ms per loop (mean ± std. dev. of 7 runs, 1 loop each)\n",
            "105 µs ± 304 ns per loop (mean ± std. dev. of 7 runs, 10000 loops each)\n",
            "93.7 µs ± 22.2 µs per loop (mean ± std. dev. of 7 runs, 10000 loops each)\n",
            "96.6 µs ± 15 µs per loop (mean ± std. dev. of 7 runs, 10000 loops each)\n",
            "91.2 µs ± 2.39 µs per loop (mean ± std. dev. of 7 runs, 10000 loops each)\n",
            "3.17 s ± 616 ms per loop (mean ± std. dev. of 7 runs, 1 loop each)\n",
            "461 µs ± 13.1 µs per loop (mean ± std. dev. of 7 runs, 1000 loops each)\n",
            "341 µs ± 7.35 µs per loop (mean ± std. dev. of 7 runs, 1000 loops each)\n",
            "241 µs ± 9.53 µs per loop (mean ± std. dev. of 7 runs, 1000 loops each)\n",
            "336 µs ± 7.43 µs per loop (mean ± std. dev. of 7 runs, 1000 loops each)\n",
            "2.68 s ± 578 ms per loop (mean ± std. dev. of 7 runs, 1 loop each)\n",
            "37.7 ms ± 5.89 ms per loop (mean ± std. dev. of 7 runs, 10 loops each)\n",
            "4.04 ms ± 80.3 µs per loop (mean ± std. dev. of 7 runs, 100 loops each)\n",
            "11.2 ms ± 2.69 ms per loop (mean ± std. dev. of 7 runs, 100 loops each)\n",
            "17.9 ms ± 3.7 ms per loop (mean ± std. dev. of 7 runs, 100 loops each)\n",
            "2.69 s ± 605 ms per loop (mean ± std. dev. of 7 runs, 1 loop each)\n",
            "106 µs ± 1.16 µs per loop (mean ± std. dev. of 7 runs, 10000 loops each)\n",
            "108 µs ± 28.9 µs per loop (mean ± std. dev. of 7 runs, 10000 loops each)\n",
            "113 µs ± 25.6 µs per loop (mean ± std. dev. of 7 runs, 10000 loops each)\n",
            "104 µs ± 853 ns per loop (mean ± std. dev. of 7 runs, 10000 loops each)\n",
            "2.54 s ± 374 ms per loop (mean ± std. dev. of 7 runs, 1 loop each)\n",
            "36.6 ms ± 1e+03 µs per loop (mean ± std. dev. of 7 runs, 10 loops each)\n",
            "8.09 ms ± 2.31 ms per loop (mean ± std. dev. of 7 runs, 100 loops each)\n",
            "16.4 ms ± 2.92 ms per loop (mean ± std. dev. of 7 runs, 100 loops each)\n",
            "25 ms ± 616 µs per loop (mean ± std. dev. of 7 runs, 10 loops each)\n",
            "2.71 s ± 621 ms per loop (mean ± std. dev. of 7 runs, 1 loop each)\n",
            "87.4 µs ± 1.67 µs per loop (mean ± std. dev. of 7 runs, 10000 loops each)\n",
            "89.2 µs ± 23.6 µs per loop (mean ± std. dev. of 7 runs, 10000 loops each)\n",
            "70.7 µs ± 1.06 µs per loop (mean ± std. dev. of 7 runs, 10000 loops each)\n",
            "88.9 µs ± 23.8 µs per loop (mean ± std. dev. of 7 runs, 10000 loops each)\n",
            "2.48 s ± 333 ms per loop (mean ± std. dev. of 7 runs, 1 loop each)\n",
            "4.53 ms ± 676 µs per loop (mean ± std. dev. of 7 runs, 100 loops each)\n",
            "1.66 ms ± 444 µs per loop (mean ± std. dev. of 7 runs, 100 loops each)\n",
            "996 µs ± 13.3 µs per loop (mean ± std. dev. of 7 runs, 1000 loops each)\n",
            "1.68 ms ± 291 µs per loop (mean ± std. dev. of 7 runs, 1000 loops each)\n",
            "2.62 s ± 483 ms per loop (mean ± std. dev. of 7 runs, 1 loop each)\n"
          ]
        }
      ]
    },
    {
      "cell_type": "code",
      "execution_count": 17,
      "id": "56cec342-8637-4288-b739-49e871180576",
      "metadata": {
        "colab": {
          "base_uri": "https://localhost:8080/",
          "height": 601
        },
        "id": "56cec342-8637-4288-b739-49e871180576",
        "outputId": "a1de7af1-0497-491c-b20b-5b7d98c05f85"
      },
      "outputs": [
        {
          "output_type": "display_data",
          "data": {
            "text/plain": [
              "<Figure size 640x480 with 1 Axes>"
            ],
            "image/png": "[encoded data removed]"
          },
          "metadata": {}
        }
      ],
      "source": [
        "import matplotlib.pyplot as plt\n",
        "\n",
        "plt.plot(inp_queries, list(map(lambda x: x.average,time_full)), label='Full Trie')\n",
        "plt.plot(inp_queries, list(map(lambda x: x.average,time_1_10)), label='1/10 of Trie')\n",
        "plt.plot(inp_queries, list(map(lambda x: x.average,time_1_2)), label='1/2 of Trie')\n",
        "plt.plot(inp_queries, list(map(lambda x: x.average,time_1_4)), label='1/4 of Trie')\n",
        "plt.plot(inp_queries, list(map(lambda x: x.average,time_naive)), label='Naive Search')\n",
        "\n",
        "plt.xticks(rotation = 90)\n",
        "plt.title(\"Average time of running\")\n",
        "plt.xlabel(\"Query\")\n",
        "plt.ylabel(\"Average time in seconds\")\n",
        "plt.legend()\n",
        "plt.show()\n",
        "### YOUR CODE HERE"
      ]
    },
    {
      "cell_type": "markdown",
      "id": "f44c7215-aad0-4e52-9cba-5ba030655740",
      "metadata": {
        "id": "f44c7215-aad0-4e52-9cba-5ba030655740"
      },
      "source": [
        "## 2. [M][20] What if the query is in the middle?\n",
        "\n",
        "Modify your code to suggest string even if the query is found **in the middle** of the text. Think about techniques you can borrow from our previous classes, e.g. about wildcard search.\n",
        "\n",
        "E.g. `Semantic Parsing` in \n",
        "\n",
        "```\n",
        "3DCNN-DQN-RNN: A Deep Reinforcement Learning Framework for Semantic Parsing of Large-scale 3D Point Clouds\n",
        "                                                           ~~~~~~~~~~~~~~~~\n",
        "```\n",
        "\n",
        "**NB**: Please extend you trie-based approach. Even if using `in` and regexp can give you same result, this is not a scalable approach, which we will not accept.\n",
        "\n",
        "Pass the asserts."
      ]
    },
    {
      "cell_type": "code",
      "source": [
        "from nltk.util import ngrams\n",
        "\n",
        "def get_trie_extended(aol_data):\n",
        "  aol_trie = pygtrie.CharTrie()\n",
        "  for i, row in aol_data.iterrows():\n",
        "    if bool(row[\"Query\"]):\n",
        "      filtered_sentence = [token.lower().strip() for token in word_tokenize(row['Query']) if token.lower() not in stop_words]\n",
        "      for biword in ngrams(filtered_sentence,2):\n",
        "        biword = ' '.join(biword)\n",
        "        if biword in aol_trie:\n",
        "          prev_value = aol_trie[biword]\n",
        "          aol_trie[biword] = {\n",
        "              'queries': prev_value['queries']+ [row[\"Query\"]],\n",
        "              'ranks': prev_value['ranks']+[row['ItemRank']],\n",
        "              'urls': prev_value['urls']+[row[\"ClickURL\"]]\n",
        "          }    \n",
        "        else:\n",
        "          aol_trie[biword] = {\n",
        "              'queries': [row[\"Query\"]],\n",
        "              'ranks': [row['ItemRank']],\n",
        "              'urls': [row[\"ClickURL\"]]\n",
        "          }\n",
        "  return aol_trie\n"
      ],
      "metadata": {
        "id": "TlXNuyqOGVzM"
      },
      "id": "TlXNuyqOGVzM",
      "execution_count": 18,
      "outputs": []
    },
    {
      "cell_type": "code",
      "execution_count": 19,
      "id": "27100ce9-dfda-42d9-aac1-32b8f8617c2f",
      "metadata": {
        "id": "27100ce9-dfda-42d9-aac1-32b8f8617c2f"
      },
      "outputs": [],
      "source": [
        "newtrie = get_trie_extended(aol_data)"
      ]
    },
    {
      "cell_type": "code",
      "source": [
        "def complete_user_query_with_spellchecker_and_middle(query, trie, top_k=5) -> list[str]:\n",
        "    #TODO: suggest top_k options for a user query\n",
        "    # sort results by frequency (!), \n",
        "    # suggest the QUERIES for first k ranked urls if available\n",
        "    query = spell(query)\n",
        "    return complete_user_query(query, trie, top_k)    "
      ],
      "metadata": {
        "id": "og9Vkfz0IJWq"
      },
      "id": "og9Vkfz0IJWq",
      "execution_count": 20,
      "outputs": []
    },
    {
      "cell_type": "code",
      "execution_count": 21,
      "id": "40e398c8-2c0e-478a-b294-8203e4c774e1",
      "metadata": {
        "id": "40e398c8-2c0e-478a-b294-8203e4c774e1"
      },
      "outputs": [],
      "source": [
        "assert \"ricky martin beach\" in complete_user_query_with_spellchecker_and_middle(\n",
        "            \"martin beach\", newtrie, 20)\n",
        "#Tweaked free adult movies as the original query (free adult movie) doesn't exist in the dataset\n",
        "assert \"free adult movies\" in  complete_user_query_with_spellchecker_and_middle(\n",
        "            \"adult movie\", newtrie, 20)"
      ]
    },
    {
      "cell_type": "markdown",
      "id": "5de0559c-c1d2-4615-89d4-96f67f4c5810",
      "metadata": {
        "id": "5de0559c-c1d2-4615-89d4-96f67f4c5810"
      },
      "source": [
        "## 3. [M][20] Enrich your suggest with search results\n",
        "\n",
        "Your users will be happy if at typing the query they see not only suggested queries, but also snippets of the answers to these queries!\n",
        "\n",
        "Imagine you type \"continental air\", and the search engine suggests you \"continental airlines\" together with the URL and snippet kind of `\"Continental Airlines was a major American airline founded in 1934 and eventually headquartered in Houston, Texas...\"`, which you borrow from the search engine snippet. How can you add existing search enginge to your code? [One](https://yandex.com/dev/xml/doc/dg/task/quickstart.html), [two](https://docs.microsoft.com/en-us/bing/search-apis/bing-web-search/search-the-web), [three](https://searx.roughs.ru/), [four](https://serpapi.com/) ...\n",
        "\n",
        "Improve your suggest. It should return a tuple of 3 instead of just a string. Your result is now `(query, text, url)`. Write your own tests which for the query `continental air` return among the results:\n",
        "1. `query` = `continental airlines`.\n",
        "2. \n",
        "`Continental Airlines was a major American airline founded in 1934` in `text`.\n",
        "3. `url` = `https://en.wikipedia.org/wiki/Continental_Airlines`."
      ]
    },
    {
      "cell_type": "code",
      "source": [
        "pip install google-search-results"
      ],
      "metadata": {
        "colab": {
          "base_uri": "https://localhost:8080/"
        },
        "id": "lOlo-u20ka2l",
        "outputId": "3925cd02-46db-46e6-8997-361bca524364"
      },
      "id": "lOlo-u20ka2l",
      "execution_count": 22,
      "outputs": [
        {
          "output_type": "stream",
          "name": "stdout",
          "text": [
            "Looking in indexes: https://pypi.org/simple, https://us-python.pkg.dev/colab-wheels/public/simple/\n",
            "Requirement already satisfied: google-search-results in /usr/local/lib/python3.10/dist-packages (2.4.2)\n",
            "Requirement already satisfied: requests in /usr/local/lib/python3.10/dist-packages (from google-search-results) (2.27.1)\n",
            "Requirement already satisfied: certifi>=2017.4.17 in /usr/local/lib/python3.10/dist-packages (from requests->google-search-results) (2022.12.7)\n",
            "Requirement already satisfied: idna<4,>=2.5 in /usr/local/lib/python3.10/dist-packages (from requests->google-search-results) (3.4)\n",
            "Requirement already satisfied: charset-normalizer~=2.0.0 in /usr/local/lib/python3.10/dist-packages (from requests->google-search-results) (2.0.12)\n",
            "Requirement already satisfied: urllib3<1.27,>=1.21.1 in /usr/local/lib/python3.10/dist-packages (from requests->google-search-results) (1.26.15)\n"
          ]
        }
      ]
    },
    {
      "cell_type": "code",
      "source": [
        "from serpapi import GoogleSearch"
      ],
      "metadata": {
        "id": "i0ANh5VpT2OA"
      },
      "id": "i0ANh5VpT2OA",
      "execution_count": 23,
      "outputs": []
    },
    {
      "cell_type": "code",
      "execution_count": 24,
      "id": "05e26db0-0db8-4168-8433-522dd82b28cd",
      "metadata": {
        "id": "05e26db0-0db8-4168-8433-522dd82b28cd"
      },
      "outputs": [],
      "source": [
        "## To use, insert serp api key\n",
        "def complete_user_query_with_spellchecker_and_middle_with_snippets(query, trie, top_k=5) -> list[tuple]:\n",
        "  queries = complete_user_query_with_spellchecker_and_middle(query, trie, top_k)\n",
        "  results = []\n",
        "  for query in queries:\n",
        "    params = {\n",
        "      \"q\": query,\n",
        "      \"api_key\": \"Insert SERP API key\"\n",
        "    }\n",
        "    search = GoogleSearch(params)\n",
        "    search_results = search.get_dict()\n",
        "    result = search_results[\"organic_results\"][0]\n",
        "    results.append((query,result['title'], result['link']))\n",
        "  return results"
      ]
    },
    {
      "cell_type": "code",
      "source": [
        "inp_queries = [\"inf\", \"the best \", \"information retrieval\", \"sherlock hol\", \"carnegie mell\", \n",
        "               \"babies r\", \"new york\", \"googol\", \"inter\", \"USA sta\", \"Barbara \"]\n",
        "for inp in inp_queries:\n",
        "  result = complete_user_query_with_spellchecker_and_middle_with_snippets(inp,newtrie)\n",
        "  print(result)"
      ],
      "metadata": {
        "colab": {
          "base_uri": "https://localhost:8080/"
        },
        "id": "dhP13Txyt7we",
        "outputId": "546df8e0-c395-49a8-a7c0-93d583236ce4"
      },
      "id": "dhP13Txyt7we",
      "execution_count": 25,
      "outputs": [
        {
          "output_type": "stream",
          "name": "stdout",
          "text": [
            "[('information clearing house', 'INFORMATION CLEARING HOUSE. NEWS, COMMENTARY ...', 'http://www.informationclearinghouse.info/'), ('information on training puppy', 'Puppy Training Timeline: Teaching Good Behavior Before ...', 'https://www.akc.org/expert-advice/training/puppy-training-timeline-teaching-good-behavior-before-its-too-late/'), ('inflatable slides', 'Inflatable Slides', 'https://www.amazon.com/inflatable-slides/s?k=inflatable+slides'), ('inflatable pool water slide', 'Best Inflatable Pool Water Slides', 'https://www.amazon.com/Best-Sellers-Inflatable-Pool-Water-Slides/zgbs/toys-and-games/1272921011'), ('infections from puncture wounds of the hand', 'Infectious complications of puncture wounds - UpToDate', 'https://www.uptodate.com/contents/infectious-complications-of-puncture-wounds')]\n",
            "[('best buy', 'Best Buy | Official Online Store | Shop Now & Save', 'https://www.bestbuy.com/'), ('best western', 'Best Western Hotels - Book Online For The Lowest Rate', 'https://www.bestwestern.com/en_US.html'), ('best buy.com', 'Best Buy | Official Online Store | Shop Now & Save', 'https://www.bestbuy.com/'), ('best buys', 'Best Buy | Official Online Store | Shop Now & Save', 'https://www.bestbuy.com/'), ('the best chocolate cake', 'The Best Chocolate Cake Recipe {Ever}', 'https://addapinch.com/the-best-chocolate-cake-recipe-ever/')]\n",
            "[]\n",
            "[('sherlock holmes', 'Sherlock Holmes', 'https://en.wikipedia.org/wiki/Sherlock_Holmes'), ('sherlock holmes society', 'SHERLOCK HOLMES SOCIETY - Welcome!', 'https://www.sherlockholmessociety.com/'), ('sherlock holmes chronological order', 'Sherlock Holmes Books In Order: The Best Way To Read ...', 'https://screenrant.com/sherlock-holmes-books-story-order-release-chronological/'), ('the epilogues of sherlock holmes', 'His Last Bow. An Epilogue of Sherlock Holmes', 'https://www.amazon.com/Last-Bow-Epilogue-Sherlock-Holmes/dp/1533285616'), ('sherlock holmes address', '221B Baker Street - Wikipedia', 'https://en.wikipedia.org/wiki/221B_Baker_Street')]\n",
            "[('carnegie mellon', 'Carnegie Mellon University: Homepage - CMU', 'https://www.cmu.edu/'), ('carnegie mellon university', 'Carnegie Mellon University: Homepage - CMU', 'https://www.cmu.edu/')]\n",
            "[('babies r us', 'Babies R Us', 'https://www.babiesrus.com/'), ('babies r us.com', 'Babiesrus.com', 'https://www.babiesrus.com/'), (\"babies r' us\", 'Babies R Us', 'https://www.babiesrus.com/'), ('babies r us birmingham al registry', 'Babies R Us', 'https://www.babiesrus.com/'), ('babies r us regestry', 'Babies Registry | Babies R Us Online', 'https://www.babiesrus.co.za/baby-registry')]\n",
            "[('new york times', 'The New York Times - Breaking News, US News, World News ...', 'https://www.nytimes.com/'), ('new york lottery', 'NY Lottery: Home', 'https://nylottery.ny.gov/'), ('new york alarm installer jobs', 'Alarm Installer Jobs, Employment in New York, NY', 'https://www.indeed.com/m/jobs?q=Alarm+Installer&l=New+York%2C+NY'), ('new york university', 'NYU', 'https://www.nyu.edu/'), ('new york city', 'Welcome to NYC.gov | City of New York', 'https://www.nyc.gov/')]\n",
            "[('googol . com.', 'Google', 'https://www.google.com/')]\n",
            "[('internal revenue service', 'Internal Revenue Service | An official website of the United ...', 'https://www.irs.gov/'), ('internet explorer', 'Internet Explorer - Microsoft Download Center', 'https://www.microsoft.com/en-us/download/internet-explorer.aspx'), ('international male.com', 'International Male', 'https://en.wikipedia.org/wiki/International_Male'), ('interview questions', '50+ Top Interview Questions and Answers in 2023', 'https://www.themuse.com/advice/interview-questions-and-answers'), ('international bar association', 'International Bar Association', 'https://www.ibanet.org/')]\n",
            "[('indiana usa stain glass windows', 'Classic Stained Glass Shop', 'https://classicstainedglassshop.com/'), ('road map usa state missorui', 'Official State Highway Map', 'https://www.modot.org/official-state-highway-map'), ('usa state map', 'United States Map and Satellite Image', 'https://geology.com/world/the-united-states-of-america-satellite-image.shtml')]\n",
            "[('barbara ann priddy teacher oklahoma city oklahoma', 'Barbara Priddy - Special Ed Teacher - OKC Public Schools', 'https://www.linkedin.com/in/barbara-priddy-21719156'), ('barbara eden', 'Barbara Eden', 'https://en.wikipedia.org/wiki/Barbara_Eden'), ('barbara a priddy oklahoma city oklahoma', 'Barbara Priddy Obituary - Edmond, OK', 'https://www.dignitymemorial.com/obituaries/edmond-ok/barbara-priddy-8204112'), ('barbara franzoso', 'Barbara Franzoso - Berkshire Hathaway HomeServices', 'https://www.bhhsverani.com/verani-realty-nh301/portsmouth/barbara-franzoso/cid-1121184'), ('barbara ann priddy psychiatric history', 'Learning Should Be Fun! - Dr. Barbara Priddy Guyer', 'https://www.barnesandnoble.com/w/learning-should-be-fun-dr-barbara-priddy-guyer/1142610624')]\n"
          ]
        }
      ]
    }
  ],
  "metadata": {
    "kernelspec": {
      "display_name": "ai",
      "language": "python",
      "name": "ai"
    },
    "language_info": {
      "codemirror_mode": {
        "name": "ipython",
        "version": 3
      },
      "file_extension": ".py",
      "mimetype": "text/x-python",
      "name": "python",
      "nbconvert_exporter": "python",
      "pygments_lexer": "ipython3",
      "version": "3.9.7"
    },
    "colab": {
      "provenance": []
    }
  },
  "nbformat": 4,
  "nbformat_minor": 5
}