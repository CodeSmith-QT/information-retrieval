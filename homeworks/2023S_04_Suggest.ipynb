{
  "cells": [
    {
      "cell_type": "markdown",
      "metadata": {
        "tags": [],
        "id": "s0DLM4WNKC2n"
      },
      "source": [
        "# Sugges_\n",
        "\n",
        "One of the strategies to improve user experience is to provide user with hints, or, otherwise, to autocomplete his queries. Let's consider suggest.\n",
        "\n",
        "Today we will practice generating suggestions using [Trie](https://en.wikipedia.org/wiki/Trie) data structure (prefix tree), see the example below.\n",
        "\n",
        "Plan of your homework:\n",
        "\n",
        "1. Build Trie based on real search query data, provided by AOL company;\n",
        "2. Generate suggestion based on a trie;\n",
        "3. Measure suggestion speed;\n",
        "\n",
        "![image](https://www.ritambhara.in/wp-content/uploads/2017/05/Screen-Shot-2017-05-01-at-4.01.38-PM.png)\n",
        "\n",
        "## 0. Install Trie data structure support\n",
        "\n",
        "You are free to use any library implementation of Trie, as well as the one we suggest (read the docs before asking any questions!): https://github.com/google/pygtrie"
      ]
    },
    {
      "cell_type": "code",
      "execution_count": 4,
      "metadata": {
        "colab": {
          "base_uri": "https://localhost:8080/"
        },
        "id": "lSFpDVYxKC2t",
        "outputId": "01704c4e-8270-4667-d1ce-902f34ddbfd5"
      },
      "outputs": [
        {
          "output_type": "stream",
          "name": "stdout",
          "text": [
            "Looking in indexes: https://pypi.org/simple, https://us-python.pkg.dev/colab-wheels/public/simple/\n",
            "Requirement already satisfied: pygtrie in /usr/local/lib/python3.10/dist-packages (2.5.0)\n"
          ]
        }
      ],
      "source": [
        "!pip install pygtrie"
      ]
    },
    {
      "cell_type": "markdown",
      "metadata": {
        "id": "ZduUWtKmKC2v"
      },
      "source": [
        "## 1. Build a trie upon a dataset\n",
        "\n",
        "### 1.1. [5] Read the dataset\n",
        "\n",
        "Download the [dataset](https://github.com/IUCVLab/information-retrieval/tree/main/datasets/aol) (we provide only the first part of the original data for simplicity (~3.5 mln queries)).\n",
        "\n",
        "Explore the data, see readme file. Load the dataset. Pass the assert."
      ]
    },
    {
      "cell_type": "code",
      "source": [
        "!gunzip user-ct-test-collection-01.txt.gz"
      ],
      "metadata": {
        "id": "UtuRciIeQkMu"
      },
      "execution_count": 5,
      "outputs": []
    },
    {
      "cell_type": "code",
      "execution_count": 6,
      "metadata": {
        "id": "AlrcEwQAKC2w"
      },
      "outputs": [],
      "source": [
        "import pandas as pd\n",
        "\n",
        "\n",
        "aol_data = pd.read_csv('user-ct-test-collection-01.txt', on_bad_lines='skip',sep='\\t')\n",
        "\n",
        "#TODO: Read the dataset, e.g. as pandas dataframe\n",
        "\n",
        "assert aol_data.shape[0] == 3558411, \"Dataset size does not match\""
      ]
    },
    {
      "cell_type": "code",
      "source": [
        "aol_data.Query.fillna('',inplace=True)"
      ],
      "metadata": {
        "id": "MLR4RG8EbLvV"
      },
      "execution_count": 7,
      "outputs": []
    },
    {
      "cell_type": "markdown",
      "metadata": {
        "id": "M3uUMjMhKC2w"
      },
      "source": [
        "### 1.2. [10] Build a Trie\n",
        "\n",
        "We want a suggest function to be **non-sensitive to stop words** because we don't want to upset the users if they confuses/omits prepositions. Consider *\"public events in Innopolis\"* vs *\"public events at Innopolis\"* or *\"public events Innopolis\"* - they all mean the same.\n",
        "\n",
        "Build a Trie based on the dataset, **storing query statistics such as query _frequency_, urls and ranks in the nodes**. Some queries may have no associated urls, others may have multiple ranked urls. Think of the way to store this information.\n",
        "\n",
        "Pass the asserts."
      ]
    },
    {
      "cell_type": "code",
      "source": [
        "import nltk\n",
        "from nltk.corpus import stopwords\n",
        "nltk.download('punkt')\n",
        "nltk.download('stopwords')\n",
        "\n",
        "stop_words = set(stopwords.words('english'))"
      ],
      "metadata": {
        "colab": {
          "base_uri": "https://localhost:8080/"
        },
        "id": "hRjE7iJGcUXc",
        "outputId": "6404c392-5031-426c-ba24-eded0b52d509"
      },
      "execution_count": 8,
      "outputs": [
        {
          "output_type": "stream",
          "name": "stderr",
          "text": [
            "[nltk_data] Downloading package punkt to /root/nltk_data...\n",
            "[nltk_data]   Unzipping tokenizers/punkt.zip.\n",
            "[nltk_data] Downloading package stopwords to /root/nltk_data...\n",
            "[nltk_data]   Unzipping corpora/stopwords.zip.\n"
          ]
        }
      ]
    },
    {
      "cell_type": "code",
      "source": [
        "from nltk.tokenize import word_tokenize"
      ],
      "metadata": {
        "id": "hXQy8DdEcavE"
      },
      "execution_count": 9,
      "outputs": []
    },
    {
      "cell_type": "code",
      "source": [
        "def preprocess(text):   \n",
        "  temp = [token.lower().strip() for token in word_tokenize(text) if token.lower() not in stop_words]\n",
        "  return ' '.join(temp).lower()"
      ],
      "metadata": {
        "id": "npNTzHEAcf7A"
      },
      "execution_count": 10,
      "outputs": []
    },
    {
      "cell_type": "code",
      "source": [
        "aol_data.head()"
      ],
      "metadata": {
        "colab": {
          "base_uri": "https://localhost:8080/",
          "height": 206
        },
        "id": "mVy2U5nGqFqT",
        "outputId": "7a06a7d6-d3dc-47de-8c54-af5253fa6937"
      },
      "execution_count": 11,
      "outputs": [
        {
          "output_type": "execute_result",
          "data": {
            "text/plain": [
              "   AnonID                        Query            QueryTime  ItemRank ClickURL\n",
              "0     142               rentdirect.com  2006-03-01 07:17:12       NaN      NaN\n",
              "1     142  www.prescriptionfortime.com  2006-03-12 12:31:06       NaN      NaN\n",
              "2     142                   staple.com  2006-03-17 21:19:29       NaN      NaN\n",
              "3     142                   staple.com  2006-03-17 21:19:45       NaN      NaN\n",
              "4     142    www.newyorklawyersite.com  2006-03-18 08:02:58       NaN      NaN"
            ],
            "text/html": [
              "\n",
              "  <div id=\"df-6d8f9db2-44ee-4d46-aa2e-04aa8791a4e3\">\n",
              "    <div class=\"colab-df-container\">\n",
              "      <div>\n",
              "<style scoped>\n",
              "    .dataframe tbody tr th:only-of-type {\n",
              "        vertical-align: middle;\n",
              "    }\n",
              "\n",
              "    .dataframe tbody tr th {\n",
              "        vertical-align: top;\n",
              "    }\n",
              "\n",
              "    .dataframe thead th {\n",
              "        text-align: right;\n",
              "    }\n",
              "</style>\n",
              "<table border=\"1\" class=\"dataframe\">\n",
              "  <thead>\n",
              "    <tr style=\"text-align: right;\">\n",
              "      <th></th>\n",
              "      <th>AnonID</th>\n",
              "      <th>Query</th>\n",
              "      <th>QueryTime</th>\n",
              "      <th>ItemRank</th>\n",
              "      <th>ClickURL</th>\n",
              "    </tr>\n",
              "  </thead>\n",
              "  <tbody>\n",
              "    <tr>\n",
              "      <th>0</th>\n",
              "      <td>142</td>\n",
              "      <td>rentdirect.com</td>\n",
              "      <td>2006-03-01 07:17:12</td>\n",
              "      <td>NaN</td>\n",
              "      <td>NaN</td>\n",
              "    </tr>\n",
              "    <tr>\n",
              "      <th>1</th>\n",
              "      <td>142</td>\n",
              "      <td>www.prescriptionfortime.com</td>\n",
              "      <td>2006-03-12 12:31:06</td>\n",
              "      <td>NaN</td>\n",
              "      <td>NaN</td>\n",
              "    </tr>\n",
              "    <tr>\n",
              "      <th>2</th>\n",
              "      <td>142</td>\n",
              "      <td>staple.com</td>\n",
              "      <td>2006-03-17 21:19:29</td>\n",
              "      <td>NaN</td>\n",
              "      <td>NaN</td>\n",
              "    </tr>\n",
              "    <tr>\n",
              "      <th>3</th>\n",
              "      <td>142</td>\n",
              "      <td>staple.com</td>\n",
              "      <td>2006-03-17 21:19:45</td>\n",
              "      <td>NaN</td>\n",
              "      <td>NaN</td>\n",
              "    </tr>\n",
              "    <tr>\n",
              "      <th>4</th>\n",
              "      <td>142</td>\n",
              "      <td>www.newyorklawyersite.com</td>\n",
              "      <td>2006-03-18 08:02:58</td>\n",
              "      <td>NaN</td>\n",
              "      <td>NaN</td>\n",
              "    </tr>\n",
              "  </tbody>\n",
              "</table>\n",
              "</div>\n",
              "      <button class=\"colab-df-convert\" onclick=\"convertToInteractive('df-6d8f9db2-44ee-4d46-aa2e-04aa8791a4e3')\"\n",
              "              title=\"Convert this dataframe to an interactive table.\"\n",
              "              style=\"display:none;\">\n",
              "        \n",
              "  <svg xmlns=\"http://www.w3.org/2000/svg\" height=\"24px\"viewBox=\"0 0 24 24\"\n",
              "       width=\"24px\">\n",
              "    <path d=\"M0 0h24v24H0V0z\" fill=\"none\"/>\n",
              "    <path d=\"M18.56 5.44l.94 2.06.94-2.06 2.06-.94-2.06-.94-.94-2.06-.94 2.06-2.06.94zm-11 1L8.5 8.5l.94-2.06 2.06-.94-2.06-.94L8.5 2.5l-.94 2.06-2.06.94zm10 10l.94 2.06.94-2.06 2.06-.94-2.06-.94-.94-2.06-.94 2.06-2.06.94z\"/><path d=\"M17.41 7.96l-1.37-1.37c-.4-.4-.92-.59-1.43-.59-.52 0-1.04.2-1.43.59L10.3 9.45l-7.72 7.72c-.78.78-.78 2.05 0 2.83L4 21.41c.39.39.9.59 1.41.59.51 0 1.02-.2 1.41-.59l7.78-7.78 2.81-2.81c.8-.78.8-2.07 0-2.86zM5.41 20L4 18.59l7.72-7.72 1.47 1.35L5.41 20z\"/>\n",
              "  </svg>\n",
              "      </button>\n",
              "      \n",
              "  <style>\n",
              "    .colab-df-container {\n",
              "      display:flex;\n",
              "      flex-wrap:wrap;\n",
              "      gap: 12px;\n",
              "    }\n",
              "\n",
              "    .colab-df-convert {\n",
              "      background-color: #E8F0FE;\n",
              "      border: none;\n",
              "      border-radius: 50%;\n",
              "      cursor: pointer;\n",
              "      display: none;\n",
              "      fill: #1967D2;\n",
              "      height: 32px;\n",
              "      padding: 0 0 0 0;\n",
              "      width: 32px;\n",
              "    }\n",
              "\n",
              "    .colab-df-convert:hover {\n",
              "      background-color: #E2EBFA;\n",
              "      box-shadow: 0px 1px 2px rgba(60, 64, 67, 0.3), 0px 1px 3px 1px rgba(60, 64, 67, 0.15);\n",
              "      fill: #174EA6;\n",
              "    }\n",
              "\n",
              "    [theme=dark] .colab-df-convert {\n",
              "      background-color: #3B4455;\n",
              "      fill: #D2E3FC;\n",
              "    }\n",
              "\n",
              "    [theme=dark] .colab-df-convert:hover {\n",
              "      background-color: #434B5C;\n",
              "      box-shadow: 0px 1px 3px 1px rgba(0, 0, 0, 0.15);\n",
              "      filter: drop-shadow(0px 1px 2px rgba(0, 0, 0, 0.3));\n",
              "      fill: #FFFFFF;\n",
              "    }\n",
              "  </style>\n",
              "\n",
              "      <script>\n",
              "        const buttonEl =\n",
              "          document.querySelector('#df-6d8f9db2-44ee-4d46-aa2e-04aa8791a4e3 button.colab-df-convert');\n",
              "        buttonEl.style.display =\n",
              "          google.colab.kernel.accessAllowed ? 'block' : 'none';\n",
              "\n",
              "        async function convertToInteractive(key) {\n",
              "          const element = document.querySelector('#df-6d8f9db2-44ee-4d46-aa2e-04aa8791a4e3');\n",
              "          const dataTable =\n",
              "            await google.colab.kernel.invokeFunction('convertToInteractive',\n",
              "                                                     [key], {});\n",
              "          if (!dataTable) return;\n",
              "\n",
              "          const docLinkHtml = 'Like what you see? Visit the ' +\n",
              "            '<a target=\"_blank\" href=https://colab.research.google.com/notebooks/data_table.ipynb>data table notebook</a>'\n",
              "            + ' to learn more about interactive tables.';\n",
              "          element.innerHTML = '';\n",
              "          dataTable['output_type'] = 'display_data';\n",
              "          await google.colab.output.renderOutput(dataTable, element);\n",
              "          const docLink = document.createElement('div');\n",
              "          docLink.innerHTML = docLinkHtml;\n",
              "          element.appendChild(docLink);\n",
              "        }\n",
              "      </script>\n",
              "    </div>\n",
              "  </div>\n",
              "  "
            ]
          },
          "metadata": {},
          "execution_count": 11
        }
      ]
    },
    {
      "cell_type": "code",
      "execution_count": 12,
      "metadata": {
        "id": "vn4gtPkUKC2x"
      },
      "outputs": [],
      "source": [
        "import pygtrie\n",
        "aol_trie = pygtrie.CharTrie()\n",
        "\n",
        "for i, row in aol_data.iterrows():\n",
        "  if bool(row[\"Query\"]):\n",
        "    filtered_sentence = preprocess(row[\"Query\"])\n",
        "    if filtered_sentence in aol_trie:\n",
        "      prev_value = aol_trie[filtered_sentence]\n",
        "      aol_trie[filtered_sentence] = {\n",
        "          'queries': prev_value['queries']+ [row[\"Query\"]],\n",
        "          'ranks': prev_value['ranks']+[row['ItemRank']],\n",
        "          'urls': prev_value['urls']+[row[\"ClickURL\"]]\n",
        "      }    \n",
        "    else:\n",
        "      aol_trie[filtered_sentence] = {\n",
        "          'queries': [row[\"Query\"]],\n",
        "          'ranks': [row['ItemRank']],\n",
        "          'urls': [row[\"ClickURL\"]]\n",
        "      }\n",
        "\n",
        "#TODO: build a trie based on the dataset"
      ]
    },
    {
      "cell_type": "code",
      "source": [
        "\n",
        "# test trie\n",
        "bag = []\n",
        "for key, val in aol_trie.iteritems(\"sample q\"):\n",
        "    print(key, '~', val)\n",
        "    \n",
        "    #NB: here we assume you store urls in a property of list type. But you can do something different. \n",
        "    bag += val['urls']\n",
        "    \n",
        "    assert \"sample question\" in key, \"All examples have `sample question` substring\"\n",
        "    assert key[:len(\"sample question\")] == \"sample question\", \"All examples have `sample question` starting string\"\n",
        "\n",
        "for url in [\"http://www.surveyconnect.com\", \"http://www.custominsight.com\", \n",
        "            \"http://jobsearchtech.about.com\", \"http://www.troy.k12.ny.us\",\n",
        "            \"http://www.flinders.edu.au\", \"http://uscis.gov\"]:\n",
        "    assert url in bag, \"This url should be in a try\""
      ],
      "metadata": {
        "colab": {
          "base_uri": "https://localhost:8080/"
        },
        "id": "d3nIp2YexxuL",
        "outputId": "c269e156-5b7e-4394-b0ca-4b0ae19a3b7c"
      },
      "execution_count": 13,
      "outputs": [
        {
          "output_type": "stream",
          "name": "stdout",
          "text": [
            "sample question surveys ~ {'queries': ['sample question surveys', 'sample question surveys', 'sample question surveys', 'sample question surveys', 'sample question surveys'], 'ranks': [7.0, 4.0, 10.0, 1.0, nan], 'urls': ['http://www.surveyconnect.com', 'http://www.custominsight.com', 'http://www.askemployees.com', 'http://www.lg-employers.gov.uk', nan]}\n",
            "sample questions immigration interview ~ {'queries': ['sample questions for immigration interview'], 'ranks': [nan], 'urls': [nan]}\n",
            "sample questions interview ~ {'queries': ['sample questions for interview'], 'ranks': [1.0], 'urls': ['http://www.quintcareers.com']}\n",
            "sample questions family interview ~ {'queries': ['sample questions for family interview', 'sample questions for family interview', 'sample questions for family interview'], 'ranks': [2.0, 5.0, 3.0], 'urls': ['http://www.grandparents-day.com', 'http://www.quintcareers.com', 'http://jobsearchtech.about.com']}\n",
            "sample questions sociology race ethnicity ~ {'queries': ['sample questions sociology race and ethnicity'], 'ranks': [nan], 'urls': [nan]}\n",
            "sample questions biology ~ {'queries': ['sample questions biology', 'sample questions biology'], 'ranks': [3.0, 6.0], 'urls': ['http://www.utexas.edu', 'http://www.troy.k12.ny.us']}\n",
            "sample questions us citizenship test ~ {'queries': ['sample questions for us citizenship test'], 'ranks': [1.0], 'urls': ['http://uscis.gov']}\n",
            "sample questionarie teaching evaluation ~ {'queries': ['sample questionarie teaching evaluation'], 'ranks': [nan], 'urls': [nan]}\n",
            "sample questionnaire teaching evaluation ~ {'queries': ['sample questionnaire teaching evaluation', 'sample questionnaire teaching evaluation', 'sample questionnaire teaching evaluation', 'sample questionnaire teaching evaluation', 'sample questionnaire teaching evaluation'], 'ranks': [1.0, 2.0, 6.0, 9.0, 10.0], 'urls': ['http://www.surveyconsole.com', 'http://www.usask.ca', 'http://teaching.berkeley.edu', 'http://www.flinders.edu.au', 'http://oregonstate.edu']}\n",
            "sample questionnaire clinical research coordinators certification ~ {'queries': ['sample questionnaire for clinical research coordinators certification'], 'ranks': [9.0], 'urls': ['http://www.pharmatech.com']}\n"
          ]
        }
      ]
    },
    {
      "cell_type": "markdown",
      "metadata": {
        "id": "XLecRcTeKC2z"
      },
      "source": [
        "## 2. [15] Write a suggest function which is \n",
        "\n",
        "---\n",
        "\n",
        "non-sensitive to stop words\n",
        "\n",
        "Suggest options for user query based on Trie you just built.\n",
        "Output results sorted by frequency, print query count for each suggestion. If there is an url available, print the url too. If multiple url-s are available, print the one with the highest rank (the less the better).\n",
        "\n",
        "Pass the asserts.\n",
        "\n",
        "Question for analysis: What is the empirical threshold for minimal prefix for suggest?"
      ]
    },
    {
      "cell_type": "code",
      "execution_count": 14,
      "metadata": {
        "id": "eZu_7O82KC20"
      },
      "outputs": [],
      "source": [
        "stops = set('a on at of to is from for and with using the in &'.split())"
      ]
    },
    {
      "cell_type": "code",
      "execution_count": 15,
      "metadata": {
        "colab": {
          "base_uri": "https://localhost:8080/"
        },
        "id": "WTKcLHkrKC20",
        "outputId": "5020d37d-c5e4-466d-fd38-29cc5aba730f"
      },
      "outputs": [
        {
          "output_type": "stream",
          "name": "stdout",
          "text": [
            "Query: trie\n",
            "Results:\n",
            "['tried and true tattoo', 'triest', 'triethanalomine', 'tried and failed', 'when you tried and failed']\n"
          ]
        }
      ],
      "source": [
        "import numpy as np\n",
        "from collections import Counter,OrderedDict\n",
        "\n",
        "def complete_user_query(query: str, trie, top_k=5) -> list[str]:\n",
        "  query = [w.lower() for w in word_tokenize(query) if not w.lower() in stops]\n",
        "  query = ' '.join(query).lower()\n",
        "  result = {}\n",
        "  if trie.has_node(query):\n",
        "    for key, obj in trie.iteritems(query):\n",
        "      for i,item in enumerate(obj['queries']):\n",
        "        if item not in result:\n",
        "          result[item] = {\n",
        "              'url': obj['urls'][i],\n",
        "              'ranks': obj['ranks'][i],\n",
        "              'count':1\n",
        "          }\n",
        "        else:\n",
        "          rank = obj['ranks'][i]\n",
        "          result[item]['count'] += 1\n",
        "          if rank < result[item]['ranks']:\n",
        "            result[item]['url'] = obj['urls'][i]\n",
        "  return sorted(result, key =lambda key: result[key]['count'], reverse=True)[:top_k]\n",
        "  \n",
        "        \n",
        "inp = \"trie\"\n",
        "print(\"Query:\", inp)\n",
        "print(\"Results:\")\n",
        "res = complete_user_query(inp, aol_trie)\n",
        "print(res)\n",
        "\n",
        "#NB we assume you return suggested query string only\n",
        "assert res[0] == \"tried and true tattoo\"\n",
        "assert res[1] == \"triest\" or res[1] == \"triethanalomine\"\n",
        "\n",
        "assert \"boys and girls club of conyers georgia\" \\\n",
        "            in complete_user_query(\"boys girls club conyers\", aol_trie, 10), \"Should be here\""
      ]
    },
    {
      "cell_type": "markdown",
      "metadata": {
        "id": "h8SZHhF4KC22"
      },
      "source": [
        "## 3. Measure suggest speed ##\n",
        "\n",
        "### 3.1. [10] Full Trie test\n",
        "\n",
        "Check how fast your search is working. Consider changing your code if it takes too long on average.\n",
        "\n",
        "Sucess criterion:\n",
        "- there is an average and a standard deviation for **multiple runs** of the given bucket.\n",
        "- there is an average and a standard deviation for **multiple runs** of naive search in the unindexed dataset."
      ]
    },
    {
      "cell_type": "code",
      "source": [
        "def naive_search(data, query, top_k):\n",
        "  groups = data[data.Query.str.lower().str.contains(\"the best\")].groupby('Query')\n",
        "  result = {}\n",
        "  for (key, group) in groups:\n",
        "    min_value = group['ItemRank'].min()\n",
        "    if(pd.isnull(min_value)):\n",
        "      result[key] = {\n",
        "          'count': group.shape[0],\n",
        "          'url': group['ClickURL'].iloc[0]       \n",
        "      }\n",
        "    else:\n",
        "      temp = group[group['ItemRank'] == min_value].iloc[0]\n",
        "      result[key] = {\n",
        "          'count': group.shape[0],\n",
        "          'url': temp['ClickURL']       \n",
        "      }\n",
        "  return sorted(result, key =lambda key: result[key]['count'], reverse=True)[:top_k]"
      ],
      "metadata": {
        "id": "LzQHVUzL4Cud"
      },
      "execution_count": 16,
      "outputs": []
    },
    {
      "cell_type": "code",
      "execution_count": 17,
      "metadata": {
        "id": "4SpHhqZTKC23",
        "colab": {
          "base_uri": "https://localhost:8080/"
        },
        "outputId": "1f36c712-3e28-40de-e651-e8806a032a3e"
      },
      "outputs": [
        {
          "output_type": "stream",
          "name": "stdout",
          "text": [
            "Query : inf\n",
            "Trie Index structure\n",
            "25.5 ms ± 928 µs per loop (mean ± std. dev. of 7 runs, 10 loops each)\n",
            "Naive search\n",
            "3.24 s ± 853 ms per loop (mean ± std. dev. of 7 runs, 1 loop each)\n",
            "------------------------------\n",
            "Query : the best \n",
            "Trie Index structure\n",
            "39.7 ms ± 599 µs per loop (mean ± std. dev. of 7 runs, 10 loops each)\n",
            "Naive search\n",
            "2.92 s ± 443 ms per loop (mean ± std. dev. of 7 runs, 1 loop each)\n",
            "------------------------------\n",
            "Query : information retrieval\n",
            "Trie Index structure\n",
            "79.1 µs ± 469 ns per loop (mean ± std. dev. of 7 runs, 10000 loops each)\n",
            "Naive search\n",
            "2.69 s ± 342 ms per loop (mean ± std. dev. of 7 runs, 1 loop each)\n",
            "------------------------------\n",
            "Query : sherlock hol\n",
            "Trie Index structure\n",
            "162 µs ± 32.4 µs per loop (mean ± std. dev. of 7 runs, 10000 loops each)\n",
            "Naive search\n",
            "2.73 s ± 568 ms per loop (mean ± std. dev. of 7 runs, 1 loop each)\n",
            "------------------------------\n",
            "Query : carnegie mell\n",
            "Trie Index structure\n",
            "124 µs ± 29.1 µs per loop (mean ± std. dev. of 7 runs, 10000 loops each)\n",
            "Naive search\n",
            "2.53 s ± 365 ms per loop (mean ± std. dev. of 7 runs, 1 loop each)\n",
            "------------------------------\n",
            "Query : babies r\n",
            "Trie Index structure\n",
            "660 µs ± 202 µs per loop (mean ± std. dev. of 7 runs, 1000 loops each)\n",
            "Naive search\n",
            "2.59 s ± 446 ms per loop (mean ± std. dev. of 7 runs, 1 loop each)\n",
            "------------------------------\n",
            "Query : new york\n",
            "Trie Index structure\n",
            "33 ms ± 8.56 ms per loop (mean ± std. dev. of 7 runs, 10 loops each)\n",
            "Naive search\n",
            "2.54 s ± 347 ms per loop (mean ± std. dev. of 7 runs, 1 loop each)\n",
            "------------------------------\n",
            "Query : googol\n",
            "Trie Index structure\n",
            "126 µs ± 30.4 µs per loop (mean ± std. dev. of 7 runs, 10000 loops each)\n",
            "Naive search\n",
            "2.72 s ± 442 ms per loop (mean ± std. dev. of 7 runs, 1 loop each)\n",
            "------------------------------\n",
            "Query : inter\n",
            "Trie Index structure\n",
            "34.8 ms ± 612 µs per loop (mean ± std. dev. of 7 runs, 10 loops each)\n",
            "Naive search\n",
            "2.65 s ± 359 ms per loop (mean ± std. dev. of 7 runs, 1 loop each)\n",
            "------------------------------\n",
            "Query : USA sta\n",
            "Trie Index structure\n",
            "87.6 µs ± 1.07 µs per loop (mean ± std. dev. of 7 runs, 10000 loops each)\n",
            "Naive search\n",
            "2.75 s ± 543 ms per loop (mean ± std. dev. of 7 runs, 1 loop each)\n",
            "------------------------------\n",
            "Query : Barbara \n",
            "Trie Index structure\n",
            "2.42 ms ± 793 µs per loop (mean ± std. dev. of 7 runs, 1000 loops each)\n",
            "Naive search\n",
            "2.62 s ± 355 ms per loop (mean ± std. dev. of 7 runs, 1 loop each)\n",
            "------------------------------\n"
          ]
        }
      ],
      "source": [
        "inp_queries = [\"inf\", \"the best \", \"information retrieval\", \"sherlock hol\", \"carnegie mell\", \n",
        "               \"babies r\", \"new york\", \"googol\", \"inter\", \"USA sta\", \"Barbara \"]\n",
        "\n",
        "for inp in inp_queries:\n",
        "  print(\"Query : \"+ inp)\n",
        "  print(\"Trie Index structure\")\n",
        "  %timeit -o complete_user_query(inp, aol_trie)\n",
        "  print(\"Naive search\")\n",
        "  %timeit -o naive_search(aol_data,inp, 5)  \n",
        "  print('---'*10)\n",
        "\n",
        "#TODO: measure average execution time and standard deviation (in milliseconds) per query and print it out\n",
        "# Repeat this for index and for no index."
      ]
    },
    {
      "cell_type": "markdown",
      "metadata": {
        "id": "NFL3kycFKC24"
      },
      "source": [
        "## 4. [10] Add spellchecking to your suggest\n",
        "\n",
        "Try to make your search results as close as possible. Compare top-5 results of each query with top-5 results for corrected.\n",
        "\n",
        "You can use use [pyspellchecker](https://pypi.org/project/pyspellchecker/) `candidates()` call, or use any other spellchecker implementation."
      ]
    },
    {
      "cell_type": "code",
      "source": [
        "pip install autocorrect"
      ],
      "metadata": {
        "colab": {
          "base_uri": "https://localhost:8080/"
        },
        "id": "CrGSstD26KvV",
        "outputId": "55849b24-2af3-4cd9-9883-d299c7e3433f"
      },
      "execution_count": 18,
      "outputs": [
        {
          "output_type": "stream",
          "name": "stdout",
          "text": [
            "Looking in indexes: https://pypi.org/simple, https://us-python.pkg.dev/colab-wheels/public/simple/\n",
            "Collecting autocorrect\n",
            "  Downloading autocorrect-2.6.1.tar.gz (622 kB)\n",
            "\u001b[2K     \u001b[90m━━━━━━━━━━━━━━━━━━━━━━━━━━━━━━━━━━━━━━\u001b[0m \u001b[32m622.8/622.8 kB\u001b[0m \u001b[31m12.7 MB/s\u001b[0m eta \u001b[36m0:00:00\u001b[0m\n",
            "\u001b[?25h  Preparing metadata (setup.py) ... \u001b[?25l\u001b[?25hdone\n",
            "Building wheels for collected packages: autocorrect\n",
            "  Building wheel for autocorrect (setup.py) ... \u001b[?25l\u001b[?25hdone\n",
            "  Created wheel for autocorrect: filename=autocorrect-2.6.1-py3-none-any.whl size=622380 sha256=c1f37cc43dbee7e89212e11060e32ae0a13c3d4a86fdc7a68e3c7e5b5dadbaee\n",
            "  Stored in directory: /root/.cache/pip/wheels/b5/7b/6d/b76b29ce11ff8e2521c8c7dd0e5bfee4fb1789d76193124343\n",
            "Successfully built autocorrect\n",
            "Installing collected packages: autocorrect\n",
            "Successfully installed autocorrect-2.6.1\n"
          ]
        }
      ]
    },
    {
      "cell_type": "code",
      "source": [
        "count = Counter()\n",
        "\n",
        "for sentence in aol_data['Query']:\n",
        "  sentence_split = sentence.split()\n",
        "  for i, item in enumerate(sentence_split[1:]):\n",
        "    count[f'{sentence_split[i].lower()} {item.lower()}'] +=1\n",
        "  for item in sentence_split:\n",
        "    if item.lower() not in stop_words:\n",
        "      count[item.lower()] +=1  "
      ],
      "metadata": {
        "id": "IkiWGy1Y791H"
      },
      "execution_count": 19,
      "outputs": []
    },
    {
      "cell_type": "code",
      "source": [
        "temp = Counter({k: c for k, c in count.items() if c > 4})"
      ],
      "metadata": {
        "id": "aSPx1NicHBSj"
      },
      "execution_count": 20,
      "outputs": []
    },
    {
      "cell_type": "code",
      "source": [
        "from autocorrect import Speller"
      ],
      "metadata": {
        "id": "pw5c7goa6Jk1"
      },
      "execution_count": 21,
      "outputs": []
    },
    {
      "cell_type": "code",
      "source": [
        "spell = Speller()"
      ],
      "metadata": {
        "id": "4ZjaOpPt_u-v"
      },
      "execution_count": 22,
      "outputs": []
    },
    {
      "cell_type": "code",
      "source": [
        "spell.nlp_data.update(temp)"
      ],
      "metadata": {
        "id": "xOOwBhM4Tp1n"
      },
      "execution_count": 23,
      "outputs": []
    },
    {
      "cell_type": "code",
      "execution_count": 24,
      "metadata": {
        "id": "_RZD7JszKC24"
      },
      "outputs": [],
      "source": [
        "def complete_user_query_with_spellchecker(query, trie, top_k=5) -> list[str]:\n",
        "  query = spell(query)\n",
        "  return complete_user_query(query, trie, top_k)"
      ]
    },
    {
      "cell_type": "code",
      "execution_count": 25,
      "metadata": {
        "id": "JBGs66g6KC25"
      },
      "outputs": [],
      "source": [
        "inp_queries = [\"inormation retrieval\", \"shelrock hol\", \"carnagie mell\", \"babis r\", \"Barrbara \"]\n",
        "inp_queries_corrected = [\"information retrieval\", \"sherlock hol\", \"carnegie mell\", \"babies r\", \"Barbara \"]\n",
        "\n",
        "for q, qc in zip(inp_queries, inp_queries_corrected):\n",
        "    assert  complete_user_query(qc, aol_trie, 5) == \\\n",
        "            complete_user_query_with_spellchecker(q, aol_trie, 5), \"Assert {} and {} give different results\".format(q, qc)"
      ]
    }
  ],
  "metadata": {
    "kernelspec": {
      "display_name": "Python 3 (ipykernel)",
      "language": "python",
      "name": "python3"
    },
    "language_info": {
      "codemirror_mode": {
        "name": "ipython",
        "version": 3
      },
      "file_extension": ".py",
      "mimetype": "text/x-python",
      "name": "python",
      "nbconvert_exporter": "python",
      "pygments_lexer": "ipython3",
      "version": "3.9.7"
    },
    "colab": {
      "provenance": [],
      "collapsed_sections": [
        "NFL3kycFKC24"
      ]
    }
  },
  "nbformat": 4,
  "nbformat_minor": 0
}